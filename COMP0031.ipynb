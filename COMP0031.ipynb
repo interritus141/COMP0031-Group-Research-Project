{
  "cells": [
    {
      "cell_type": "markdown",
      "metadata": {
        "id": "view-in-github"
      },
      "source": [
        "<a href=\"https://colab.research.google.com/github/interritus141/COMP0031-Group-Research-Project/blob/master/COMP0031.ipynb\" target=\"_parent\"><img src=\"https://colab.research.google.com/assets/colab-badge.svg\" alt=\"Open In Colab\"/></a>"
      ]
    },
    {
      "cell_type": "markdown",
      "metadata": {
        "id": "CG8CzgGL34mi"
      },
      "source": [
        "# Installation"
      ]
    },
    {
      "cell_type": "code",
      "execution_count": null,
      "metadata": {
        "id": "Cfw6BEA034mj"
      },
      "outputs": [],
      "source": [
        "# ! pip install gym\n",
        "# ! pip install stable_baselines3\n",
        "# ! pip install ta\n",
        "# ! pip install yfinance"
      ]
    },
    {
      "cell_type": "markdown",
      "metadata": {
        "id": "ruZOtW7WfjEi"
      },
      "source": [
        "# Imports"
      ]
    },
    {
      "cell_type": "code",
      "execution_count": null,
      "metadata": {
        "id": "XbrhDC6YfjuP"
      },
      "outputs": [],
      "source": [
        "import gym\n",
        "from stable_baselines3 import A2C, DDPG, DQN, PPO\n",
        "from ta import add_all_ta_features\n",
        "import yfinance as yf\n",
        "import matplotlib.pyplot as plt\n",
        "import pandas as pd\n",
        "import numpy as np\n",
        "import torch\n",
        "\n",
        "import functools\n",
        "import os\n",
        "import csv\n",
        "import json\n",
        "from math import prod"
      ]
    },
    {
      "cell_type": "markdown",
      "metadata": {
        "id": "xehWnLff34ml"
      },
      "source": [
        "# Helpers"
      ]
    },
    {
      "cell_type": "markdown",
      "metadata": {
        "id": "NdcDd-Iqd_-Z"
      },
      "source": [
        "## Tech Indicators"
      ]
    },
    {
      "cell_type": "code",
      "execution_count": null,
      "metadata": {
        "id": "lbA-Y5Y3grjA"
      },
      "outputs": [],
      "source": [
        "def add_ta(df):\n",
        "  ta_df = add_all_ta_features(df, open=\"Open\", high=\"High\", low=\"Low\", close=\"Close\", volume=\"Volume\")\n",
        "  # print(ta_df.columns)\n",
        "  ta_df = ta_df[[\"Open\", \"High\", \"Low\", \"Close\", \"Volume\", \"Adj Close\", \"volume_obv\",\n",
        "                                \"volume_adi\", \"trend_adx\", \"momentum_ao\", \"trend_macd\", \"momentum_rsi\", \n",
        "                                \"momentum_stoch\"]]\n",
        "  ta_df = ta_df.fillna(ta_df.mean())\n",
        "  return ta_df"
      ]
    },
    {
      "cell_type": "markdown",
      "metadata": {
        "id": "L-MLC-8P34mm"
      },
      "source": [
        "## Stock Download"
      ]
    },
    {
      "cell_type": "code",
      "execution_count": null,
      "metadata": {
        "id": "1kHGbdG934mn"
      },
      "outputs": [],
      "source": [
        "def download_stocks(start, end):\n",
        "  all_stocks = dict.fromkeys([\"AAPL\", \"MSFT\", \"AMZN\", \"TSLA\", \"NVDA\", \"CAAS\"])\n",
        "\n",
        "  for stock in all_stocks.keys():\n",
        "    stock_df = yf.download(stock, start=start, end=end, keepna=True)\n",
        "    stock_df = stock_df.fillna(stock_df.mean())\n",
        "    stock_df = add_ta(stock_df)\n",
        "    all_stocks[stock] = stock_df\n",
        "  \n",
        "  return all_stocks"
      ]
    },
    {
      "cell_type": "markdown",
      "metadata": {
        "id": "4y3Wm1xh34mn"
      },
      "source": [
        "## Plotting"
      ]
    },
    {
      "cell_type": "code",
      "execution_count": null,
      "metadata": {
        "id": "x7RFmf4lj3Yt"
      },
      "outputs": [],
      "source": [
        "def plot_line_graph(env, x_vals, y_dict, title):\n",
        "  for agent in env.possible_agents:\n",
        "    plt.plot(x_vals, y_dict[agent], label=agent)\n",
        "  plt.title(title)\n",
        "  plt.legend()\n",
        "  plt.show()"
      ]
    },
    {
      "cell_type": "markdown",
      "metadata": {
        "id": "1qTt55ub34mo"
      },
      "source": [
        "## Metrics"
      ]
    },
    {
      "cell_type": "code",
      "execution_count": null,
      "metadata": {
        "id": "yvKuYN0B34mo"
      },
      "outputs": [],
      "source": [
        "def calculate_sharpe(portfolio_return_mem):\n",
        "  df_daily_return = pd.DataFrame(portfolio_return_mem)\n",
        "  df_daily_return.columns = ['daily_return']\n",
        "  sharpe = -1 \n",
        "  if df_daily_return['daily_return'].std() != 0:\n",
        "    sharpe = (252**0.5)*df_daily_return['daily_return'].mean() / df_daily_return['daily_return'].std()\n",
        "  return sharpe # -1 means error"
      ]
    },
    {
      "cell_type": "markdown",
      "metadata": {
        "id": "jNFf8FOA34mp"
      },
      "source": [
        "## Data Saving"
      ]
    },
    {
      "cell_type": "code",
      "execution_count": null,
      "metadata": {
        "id": "E1IxLqX134mp"
      },
      "outputs": [],
      "source": [
        "def save_to_json(filename, data_dict):\n",
        "  with open(filename, \"w\") as data_out:\n",
        "    json.dump(data_dict, data_out)"
      ]
    },
    {
      "cell_type": "markdown",
      "metadata": {
        "id": "itPimO3WZcN_"
      },
      "source": [
        "# Data"
      ]
    },
    {
      "cell_type": "markdown",
      "metadata": {
        "id": "omvIiTOh34mq"
      },
      "source": [
        "## Volatility"
      ]
    },
    {
      "cell_type": "code",
      "execution_count": null,
      "metadata": {
        "id": "4FThjF5-34mq"
      },
      "outputs": [],
      "source": [
        "def add_volatility(df, df_name):\n",
        "  df[\"Log returns\"] = np.log(df['Close'] / df['Close'].shift())\n",
        "  stock_volatilities[df_name] = df['Log returns'].std() * 252 ** .5"
      ]
    },
    {
      "cell_type": "code",
      "execution_count": null,
      "metadata": {
        "id": "o6fE4TRm34mq",
        "outputId": "8740ba84-0d4c-4913-ab7b-c5f013b5bf58"
      },
      "outputs": [
        {
          "name": "stdout",
          "output_type": "stream",
          "text": [
            "{'AAPL': 0.33515159660010024, 'MSFT': 0.3108167320339789, 'AMZN': 0.35823866187984743, 'TSLA': 0.6545095345365393, 'NVDA': 0.5216282953491833, 'CAAS': 0.83977708799141}\n"
          ]
        }
      ],
      "source": [
        "def visualise_volatility(df, df_name, volatility):\n",
        "  fig, ax = plt.subplots()\n",
        "  df['Log returns'].hist(ax=ax, bins=50, alpha=0.6, color='b')\n",
        "  ax.set_xlabel(\"Log return\")\n",
        "  ax.set_ylabel(\"Freq of log return\")\n",
        "  ax.set_title(\"{:s} volatility: {:.2f}%\".format(df_name, volatility*100))"
      ]
    },
    {
      "cell_type": "markdown",
      "metadata": {
        "id": "a3wS4iGJ34mr"
      },
      "source": [
        "## Cov"
      ]
    },
    {
      "cell_type": "code",
      "execution_count": null,
      "metadata": {
        "id": "uJtS7XLJuSs2"
      },
      "outputs": [],
      "source": [
        "def add_cov(df):\n",
        "  df = df.reset_index()\n",
        "  df = df.sort_values([\"Date\", \"tic\"],ignore_index=True)\n",
        "  df.index = df[\"Date\"].factorize()[0]\n",
        "\n",
        "  cov_list = []\n",
        "  return_list = []\n",
        "\n",
        "  # look back is one year\n",
        "  # lookback=252\n",
        "  lookback = 126\n",
        "  for i in range(lookback,len(df.index.unique())):\n",
        "    data_lookback = df.iloc[i-lookback:i,:]\n",
        "    price_lookback=data_lookback.pivot_table(index='Date', columns=\"tic\", values='Close')\n",
        "    return_lookback = price_lookback.pct_change().dropna()\n",
        "    return_list.append(return_lookback)\n",
        "\n",
        "    covs = return_lookback.cov().values \n",
        "    cov_list.append(covs)\n",
        "\n",
        "\n",
        "  df_cov = pd.DataFrame({'Date':df[\"Date\"].unique()[lookback:],'cov_list':cov_list,'return_list':return_list})\n",
        "  df = df.merge(df_cov, on='Date')\n",
        "  df = df.sort_values(['Date', \"tic\"]).reset_index(drop=True)\n",
        "  return df"
      ]
    },
    {
      "cell_type": "markdown",
      "metadata": {
        "id": "1PVYw8Hn34ms"
      },
      "source": [
        "## Stocks"
      ]
    },
    {
      "cell_type": "markdown",
      "metadata": {
        "id": "s66F0uAs34ms"
      },
      "source": [
        "1. Apple Inc. (AAPL)\n",
        "2. Microsoft Corp. (MSFT)\n",
        "3. Amazon.com, Inc. ( AMZN)\n",
        "4. Tesla, Inc. (TSLA)\n",
        "5. Nvidia Corp. (NVDA)"
      ]
    },
    {
      "cell_type": "markdown",
      "metadata": {
        "id": "aAM0cl4_34ms"
      },
      "source": [
        "### Training"
      ]
    },
    {
      "cell_type": "code",
      "execution_count": null,
      "metadata": {
        "id": "12YXVBAu34ms"
      },
      "outputs": [],
      "source": [
        "stocks = download_stocks(\"2018-01-01\", \"2020-12-31\")\n",
        "stock_volatilities = {\n",
        "    stock: None for stock in stocks.keys()\n",
        "}"
      ]
    },
    {
      "cell_type": "code",
      "execution_count": null,
      "metadata": {
        "id": "KyW_d8ut34mt"
      },
      "outputs": [],
      "source": [
        "# volatility\n",
        "\n",
        "for stock, stock_df in stocks.items():\n",
        "  add_volatility(stock_df, stock)\n",
        "  # visualise_volatility(stock_df, stock, stock_volatilities[stock]) # use to generate graphs\n",
        "\n",
        "print(stock_volatilities)"
      ]
    },
    {
      "cell_type": "code",
      "execution_count": null,
      "metadata": {
        "id": "8OADGaYLI-bv"
      },
      "outputs": [],
      "source": [
        "# low volatility\n",
        "data_aapl_df = stocks[\"AAPL\"].copy()\n",
        "data_aapl_df[\"tic\"] = \"AAPL\"\n",
        "\n",
        "# high volatility\n",
        "data_tsla_df = stocks[\"TSLA\"].copy()\n",
        "data_tsla_df[\"tic\"] = \"TSLA\"\n",
        "\n",
        "mixed_df = pd.concat([data_aapl_df, data_tsla_df])\n",
        "mixed_df = add_cov(mixed_df)"
      ]
    },
    {
      "cell_type": "markdown",
      "metadata": {
        "id": "e2NP0tNn34mt"
      },
      "source": [
        "### Validation"
      ]
    },
    {
      "cell_type": "code",
      "execution_count": null,
      "metadata": {
        "id": "ZziAzsmT34mu"
      },
      "outputs": [],
      "source": [
        "validation_stocks = download_stocks(\"2021-01-01\", \"2021-12-31\")\n",
        "\n",
        "val_data_aapl_df = validation_stocks[\"AAPL\"].copy()\n",
        "val_data_aapl_df[\"tic\"] = \"AAPL\"\n",
        "\n",
        "val_data_tsla_df = validation_stocks[\"TSLA\"].copy()\n",
        "val_data_tsla_df[\"tic\"] = \"TSLA\"\n",
        "\n",
        "validation_mixed_df = pd.concat([val_data_aapl_df, val_data_tsla_df])\n",
        "validation_mixed_df = add_cov(validation_mixed_df)"
      ]
    },
    {
      "cell_type": "markdown",
      "metadata": {
        "id": "v80oKK5334mu"
      },
      "source": [
        "### Testing"
      ]
    },
    {
      "cell_type": "code",
      "execution_count": null,
      "metadata": {
        "id": "pfJV5N6Q34mu"
      },
      "outputs": [],
      "source": [
        "test_stocks = download_stocks(\"2022-01-01\", \"2022-12-31\")\n",
        "\n",
        "test_data_aapl_df = test_stocks[\"AAPL\"].copy()\n",
        "test_data_aapl_df[\"tic\"] = \"AAPL\"\n",
        "\n",
        "test_data_tsla_df = test_stocks[\"TSLA\"].copy()\n",
        "test_data_tsla_df[\"tic\"] = \"TSLA\"\n",
        "\n",
        "test_mixed_df = pd.concat([test_data_aapl_df, test_data_tsla_df])\n",
        "test_mixed_df = add_cov(test_mixed_df)"
      ]
    },
    {
      "cell_type": "markdown",
      "metadata": {
        "id": "vLl-GIGH34mv"
      },
      "source": [
        "### Market Trend"
      ]
    },
    {
      "cell_type": "code",
      "execution_count": null,
      "metadata": {
        "id": "ZZgvsCbD34mv"
      },
      "outputs": [],
      "source": [
        "plt.plot(stocks[\"AAPL\"][\"Close\"].index, stocks[\"AAPL\"][\"Close\"], label=\"AAPL\")\n",
        "plt.plot(stocks[\"TSLA\"][\"Close\"].index, stocks[\"TSLA\"][\"Close\"], label=\"TSLA\")\n",
        "plt.title(\"Daily Closing Value\")\n",
        "plt.legend()\n",
        "plt.show()"
      ]
    },
    {
      "cell_type": "markdown",
      "source": [
        "## Mock Data"
      ],
      "metadata": {
        "id": "y6_ayreLk4wb"
      }
    },
    {
      "cell_type": "markdown",
      "source": [
        "### Load"
      ],
      "metadata": {
        "id": "I7MGs1I2lAkJ"
      }
    },
    {
      "cell_type": "code",
      "source": [
        "def load_mock_csv(filepath, label):\n",
        "  df = pd.read_csv(filepath)\n",
        "  date_buffer = df[\"Date\"]\n",
        "  df[\"Volume\"] = 5000\n",
        "  df[\"Adj Close\"] = df[\"Close\"]\n",
        "  \n",
        "  df = add_ta(df)\n",
        "  df[\"Date\"] = date_buffer\n",
        "  df[\"tic\"] = label\n",
        "\n",
        "  df = df.set_index(df[\"Date\"])\n",
        "  train_df = df[:\"2020-12-31\"]\n",
        "  train_df = train_df.reset_index(drop=True)\n",
        "\n",
        "  test_df = df[\"2021-01-01\":]\n",
        "  test_df = test_df.reset_index(drop=True)\n",
        "  return train_df, test_df"
      ],
      "metadata": {
        "id": "84YugWO0qczu"
      },
      "execution_count": null,
      "outputs": []
    },
    {
      "cell_type": "code",
      "source": [
        "lin_high_var_df, test_lin_high_var_df = load_mock_csv(\"linear_high_varince.csv\", \"LHG\")\n",
        "lin_low_var_df, test_lin_low_var_df = load_mock_csv(\"linear_low_varince.csv\", \"LLW\")\n",
        "\n",
        "sin_up_df, test_sin_up_df = load_mock_csv(\"sin_wave_going_up.csv\", \"SUP\")\n",
        "sin_down_df, test_sin_down_df = load_mock_csv(\"sin_wave_going_down.csv\", \"SDWN\")\n",
        "\n",
        "sin_up_down_df, test_sin_up_down_df = load_mock_csv(\"sin_wave_going_up_then_down.csv\", \"SUPDW\")\n",
        "sin_shift_4_df, test_sin_shift_4_df = load_mock_csv(\"sin_wave_shift_pi_d_4.csv\", \"SSFT4\")"
      ],
      "metadata": {
        "colab": {
          "base_uri": "https://localhost:8080/"
        },
        "id": "tfbXucH2lBo5",
        "outputId": "b9958f39-eb0b-4e40-fe8a-3aa2be18c21d"
      },
      "execution_count": null,
      "outputs": [
        {
          "output_type": "stream",
          "name": "stderr",
          "text": [
            "/usr/local/lib/python3.9/dist-packages/ta/trend.py:780: RuntimeWarning: invalid value encountered in double_scalars\n",
            "  dip[idx] = 100 * (self._dip[idx] / value)\n",
            "/usr/local/lib/python3.9/dist-packages/ta/trend.py:785: RuntimeWarning: invalid value encountered in double_scalars\n",
            "  din[idx] = 100 * (self._din[idx] / value)\n",
            "/usr/local/lib/python3.9/dist-packages/ta/trend.py:780: RuntimeWarning: invalid value encountered in double_scalars\n",
            "  dip[idx] = 100 * (self._dip[idx] / value)\n",
            "/usr/local/lib/python3.9/dist-packages/ta/trend.py:785: RuntimeWarning: invalid value encountered in double_scalars\n",
            "  din[idx] = 100 * (self._din[idx] / value)\n",
            "/usr/local/lib/python3.9/dist-packages/ta/trend.py:780: RuntimeWarning: invalid value encountered in double_scalars\n",
            "  dip[idx] = 100 * (self._dip[idx] / value)\n",
            "/usr/local/lib/python3.9/dist-packages/ta/trend.py:785: RuntimeWarning: invalid value encountered in double_scalars\n",
            "  din[idx] = 100 * (self._din[idx] / value)\n",
            "/usr/local/lib/python3.9/dist-packages/ta/trend.py:780: RuntimeWarning: invalid value encountered in double_scalars\n",
            "  dip[idx] = 100 * (self._dip[idx] / value)\n",
            "/usr/local/lib/python3.9/dist-packages/ta/trend.py:785: RuntimeWarning: invalid value encountered in double_scalars\n",
            "  din[idx] = 100 * (self._din[idx] / value)\n",
            "/usr/local/lib/python3.9/dist-packages/ta/trend.py:780: RuntimeWarning: invalid value encountered in double_scalars\n",
            "  dip[idx] = 100 * (self._dip[idx] / value)\n",
            "/usr/local/lib/python3.9/dist-packages/ta/trend.py:785: RuntimeWarning: invalid value encountered in double_scalars\n",
            "  din[idx] = 100 * (self._din[idx] / value)\n",
            "/usr/local/lib/python3.9/dist-packages/ta/trend.py:780: RuntimeWarning: invalid value encountered in double_scalars\n",
            "  dip[idx] = 100 * (self._dip[idx] / value)\n",
            "/usr/local/lib/python3.9/dist-packages/ta/trend.py:785: RuntimeWarning: invalid value encountered in double_scalars\n",
            "  din[idx] = 100 * (self._din[idx] / value)\n"
          ]
        }
      ]
    },
    {
      "cell_type": "markdown",
      "source": [
        "### Training"
      ],
      "metadata": {
        "id": "FHZov7n6k885"
      }
    },
    {
      "cell_type": "code",
      "source": [
        "data_lin_high_var_df = lin_high_var_df.copy()\n",
        "data_lin_low_var_df = lin_low_var_df.copy()\n",
        "\n",
        "data_sin_up_df = sin_up_df.copy()\n",
        "data_sin_down_df = sin_down_df.copy()\n",
        "\n",
        "data_sin_up_down_df = sin_up_down_df.copy()\n",
        "data_sin_shift_4_df = sin_shift_4_df.copy()"
      ],
      "metadata": {
        "id": "WB_FrG43njz2"
      },
      "execution_count": null,
      "outputs": []
    },
    {
      "cell_type": "code",
      "source": [
        "mock_mixed_df = pd.concat([data_sin_up_down_df, data_sin_shift_4_df])\n",
        "mock_mixed_df = add_cov(mock_mixed_df)"
      ],
      "metadata": {
        "id": "vrdZGKOAmSs9"
      },
      "execution_count": null,
      "outputs": []
    },
    {
      "cell_type": "markdown",
      "source": [
        "### Trend"
      ],
      "metadata": {
        "id": "ZwfEEBiF4PDl"
      }
    },
    {
      "cell_type": "code",
      "source": [
        "plt.plot(lin_high_var_df[\"Close\"].index, lin_high_var_df[\"Close\"], label=\"LHG\")\n",
        "plt.plot(lin_low_var_df[\"Close\"].index, lin_low_var_df[\"Close\"], label=\"LLW\")\n",
        "\n",
        "plt.plot(sin_up_df[\"Close\"].index, sin_up_df[\"Close\"], label=\"SUP\")\n",
        "plt.plot(sin_down_df[\"Close\"].index, sin_down_df[\"Close\"], label=\"SDWN\")\n",
        "\n",
        "plt.plot(sin_up_down_df[\"Close\"].index, sin_up_down_df[\"Close\"], label=\"SUPDW\")\n",
        "plt.plot(sin_shift_4_df[\"Close\"].index, sin_shift_4_df[\"Close\"], label=\"SSFT4\")\n",
        "\n",
        "plt.title(\"Daily Closing Value\")\n",
        "plt.legend()\n",
        "plt.show()"
      ],
      "metadata": {
        "colab": {
          "base_uri": "https://localhost:8080/",
          "height": 281
        },
        "id": "ieCsLX7Pl6gh",
        "outputId": "134fdddf-a332-4bb3-f013-5a0542f70dcc"
      },
      "execution_count": null,
      "outputs": [
        {
          "output_type": "display_data",
          "data": {
            "text/plain": [
              "<Figure size 432x288 with 1 Axes>"
            ],
            "image/png": "[encoded data removed]"
          },
          "metadata": {
            "needs_background": "light"
          }
        }
      ]
    },
    {
      "cell_type": "markdown",
      "metadata": {
        "id": "mVYjY6QFj2Uy"
      },
      "source": [
        "# Environment"
      ]
    },
    {
      "cell_type": "markdown",
      "metadata": {
        "id": "8xU4TKJv34mw"
      },
      "source": [
        "## Agent"
      ]
    },
    {
      "cell_type": "markdown",
      "source": [
        "### Random Action "
      ],
      "metadata": {
        "id": "Jjt8VobxCs4B"
      }
    },
    {
      "cell_type": "code",
      "source": [
        "class RandomAgent:\n",
        "  def __init__(self, pol, env, n_steps=1, stock_dim=1):\n",
        "    self.stock_dim = stock_dim\n",
        "  \n",
        "  def learn(self, total_timesteps=1):\n",
        "    # no learning, random agent doesn't learn\n",
        "    return self\n",
        "\n",
        "  def predict(self, state):\n",
        "    action = np.random.dirichlet(np.ones(self.stock_dim), 1)\n",
        "    return action[0], {}\n",
        "\n",
        "  def save(self, filename):\n",
        "    # no saving, random agent doesn't learn\n",
        "    pass\n",
        "\n",
        "  def set_parameters(self, filename):\n",
        "    # no saving, random agent doesn't learn\n",
        "    pass"
      ],
      "metadata": {
        "id": "vr8vG1cMCsbZ"
      },
      "execution_count": null,
      "outputs": []
    },
    {
      "cell_type": "markdown",
      "source": [
        "### Configurations"
      ],
      "metadata": {
        "id": "Ow9cdaB4Obmt"
      }
    },
    {
      "cell_type": "code",
      "execution_count": null,
      "metadata": {
        "id": "XIA9Tg7bmZGN"
      },
      "outputs": [],
      "source": [
        "policy = \"MlpPolicy\"\n",
        "training_timesteps = 5\n",
        "mixed_df = mixed_df"
      ]
    },
    {
      "cell_type": "code",
      "execution_count": null,
      "metadata": {
        "id": "I144ocoi34my"
      },
      "outputs": [],
      "source": [
        "# configurations\n",
        "\n",
        "stock_dimension = len(mixed_df[\"tic\"].unique())\n",
        "state_space = stock_dimension\n",
        "\n",
        "env_kwargs = {\n",
        "  \"hmax\": 100, \n",
        "  \"initial_amount\": 1000000, \n",
        "  \"transaction_cost_pct\": 0.001, \n",
        "  \"state_space\": state_space, \n",
        "  \"stock_dim\": stock_dimension, \n",
        "  \"tech_indicator_list\": [\n",
        "    \"volume_obv\",\n",
        "    \"volume_adi\", \n",
        "    \"trend_adx\", \n",
        "    \"momentum_ao\", \n",
        "    \"trend_macd\", \n",
        "    \"momentum_rsi\", \n",
        "    \"momentum_stoch\"\n",
        "  ], \n",
        "  \"action_space\": stock_dimension, \n",
        "  \"reward_scaling\": 1e-4,\n",
        "  \"lookback\": 126,\n",
        "}"
      ]
    },
    {
      "cell_type": "code",
      "execution_count": null,
      "metadata": {
        "id": "UPQWoO3234mx"
      },
      "outputs": [],
      "source": [
        "AGENT_STR_TO_OBJECT = {\n",
        "    \"A2C\": lambda pol, env, day: A2C(pol, env, n_steps=day),\n",
        "    \"DDPG\": lambda pol, env, day: DDPG(pol, env),\n",
        "    \"PPO\": lambda pol, env, day: PPO(pol, env, n_steps=day),\n",
        "    \"Rand\": lambda pol, env, day: RandomAgent(pol, env, n_steps=day, stock_dim=stock_dimension)\n",
        "}"
      ]
    },
    {
      "cell_type": "code",
      "execution_count": null,
      "metadata": {
        "id": "VH2uxmL434mx"
      },
      "outputs": [],
      "source": [
        "TYPE_TO_NAMES = {\n",
        "    \"A2C\": [\"A2C1\", \"A2C2\", \"A2C3\"],\n",
        "    \"DDPG\": [\"DDPG1\", \"DDPG2\", \"DDPG3\"],\n",
        "    \"PPO\": [\"PPO1\", \"PPO2\", \"PPO3\"],\n",
        "    \"Mixed\": [\"A2C\", \"DDPG\", \"PPO\"],\n",
        "    \"Rand\": [\"Rand1\", \"Rand2\", \"Rand3\"],\n",
        "}"
      ]
    },
    {
      "cell_type": "markdown",
      "metadata": {
        "id": "pjXc9uvH34my"
      },
      "source": [
        "## Competitive"
      ]
    },
    {
      "cell_type": "code",
      "execution_count": null,
      "metadata": {
        "id": "LWO6MpKy34my"
      },
      "outputs": [],
      "source": [
        "class CompetitivePMEnv(gym.Env):\n",
        "  metadata = {\"render_modes\": [\"human\"], \"name\": \"marlpm_v1\"}\n",
        "\n",
        "  def __init__( \n",
        "      self,\n",
        "      df,\n",
        "      stock_dim,\n",
        "      hmax,\n",
        "      initial_amount,\n",
        "      transaction_cost_pct,\n",
        "      reward_scaling,\n",
        "      state_space,\n",
        "      action_space,\n",
        "      tech_indicator_list,\n",
        "      turbulence_threshold=None,\n",
        "      lookback=252,\n",
        "      day=0,\n",
        "      render_mode=None,\n",
        "      algo_type=\"Mixed\", # default=mixed\n",
        "  ):\n",
        "\n",
        "    assert algo_type in [\"A2C\", \"DDPG\", \"PPO\", \"Mixed\", \"Rand\"]\n",
        "\n",
        "    # attributes\n",
        "    self.lookback=lookback\n",
        "    self.df = df\n",
        "    self.stock_dim = stock_dim\n",
        "    self.hmax = hmax\n",
        "    self.initial_amount = initial_amount\n",
        "    self.transaction_cost_pct =transaction_cost_pct\n",
        "    self.reward_scaling = reward_scaling\n",
        "    self.state_space = state_space\n",
        "    self.action_dim = action_space\n",
        "    self.tech_indicator_list = tech_indicator_list\n",
        "    self.possible_agents = TYPE_TO_NAMES[algo_type]\n",
        "    \n",
        "    # buy/sell ratio reference, to explore\n",
        "    self.end_day = len(self.df[\"Date\"].unique()) - 1\n",
        "    self.stock_volume_reference = 10000\n",
        "\n",
        "    # spaces\n",
        "    # check: spaces for observations only? sharing will affect?\n",
        "    self.action_space = gym.spaces.Box(low = -1, high = 1, shape = (self.action_dim,))\n",
        "    self.observation_space = gym.spaces.Box(low=-np.inf, high=np.inf, shape = (self.state_space+len(self.tech_indicator_list), self.state_space))\n",
        "\n",
        "    # agents\n",
        "    self.agent_name_mapping = {\n",
        "        agent: AGENT_STR_TO_OBJECT[algo_type](policy, self, self.end_day+1) for agent in self.possible_agents\n",
        "    }\n",
        "    self.training_agent = None\n",
        "    self.day = {\n",
        "        agent: day for agent in self.possible_agents\n",
        "    }\n",
        "\n",
        "    # data\n",
        "    self.data = {\n",
        "        agent: self.df.loc[self.day[agent]*self.state_space:self.day[agent]*self.state_space+self.state_space-1,:] for agent in self.possible_agents\n",
        "    }\n",
        "    self.covs = {\n",
        "        agent: self.data[agent]['cov_list'].values[0] for agent in self.possible_agents\n",
        "    }\n",
        "    self.state = {\n",
        "        agent: np.append(np.array(self.covs[agent]), [self.data[agent][tech].values.tolist() for tech in self.tech_indicator_list ], axis=0) for agent in self.possible_agents\n",
        "    }\n",
        "    self.terminal = False     \n",
        "    self.turbulence_threshold = turbulence_threshold   \n",
        "\n",
        "    # memory\n",
        "    self.portfolio_value = {\n",
        "        agent: self.initial_amount for agent in self.possible_agents\n",
        "    }\n",
        "    self.asset_memory = {\n",
        "        agent: [self.initial_amount] for agent in self.possible_agents\n",
        "    }\n",
        "    self.portfolio_return_memory = {\n",
        "        agent: [0] for agent in self.possible_agents\n",
        "    }\n",
        "    self.cum_portfolio_return_memory = {\n",
        "        agent: [0] for agent in self.possible_agents\n",
        "    }\n",
        "\n",
        "    # stock ratio\n",
        "    self.actions_memory = {\n",
        "        agent: [[0]*self.stock_dim] for agent in self.possible_agents\n",
        "    }\n",
        "    self.date_memory = {\n",
        "        agent: [self.data[agent][\"Date\"]] for agent in self.possible_agents\n",
        "    }\n",
        "\n",
        "    # free cash\n",
        "    self.money_memory = {\n",
        "        agent: [self.initial_amount] for agent in self.possible_agents\n",
        "    }\n",
        "    # cash + stock value\n",
        "    self.total_value_memory = {\n",
        "        agent: [self.initial_amount] for agent in self.possible_agents\n",
        "    }\n",
        "    # individual actions collection\n",
        "    self.individual_preds = {\n",
        "        agent: [] for agent in self.possible_agents\n",
        "    }\n",
        "\n",
        "    # render mode\n",
        "    self.render_mode = render_mode\n",
        "\n",
        "  def collect_individual_preds(self):\n",
        "    self.individual_preds = {\n",
        "        agent: [] for agent in self.possible_agents\n",
        "    }\n",
        "    for i in range(self.end_day+1):\n",
        "      # states are somewhat static\n",
        "      curr_data = self.df.loc[i*self.state_space:i*self.state_space+self.state_space-1,:]\n",
        "      curr_covs = curr_data['cov_list'].values[0]\n",
        "      curr_state = np.append(np.array(curr_covs), [curr_data[tech].values.tolist() for tech in self.tech_indicator_list ], axis=0)\n",
        "      for agent in self.possible_agents:\n",
        "        action, _states = self.agent_name_mapping[agent].predict(curr_state)\n",
        "        self.individual_preds[agent].append(action)\n",
        "\n",
        "  def step(self, actions):\n",
        "    # termination\n",
        "    self.terminal = self.day[self.training_agent] >= self.end_day\n",
        "\n",
        "    if self.terminal:\n",
        "\n",
        "      # uncomment to print metrics on terminal\n",
        "      # print(\"=================================\")\n",
        "      # print(\"begin_money:{}\".format(self.asset_memory[self.training_agent][0]))           \n",
        "      # print(\"end_daily_total_portfolio_value:{}\".format(self.total_value_memory[self.training_agent][-1]))\n",
        "      # print(\"end_daily_portfolio_return:{}\".format(self.portfolio_return_memory[self.training_agent][-1]))\n",
        "      # print(\"end_cumulative_portfolio_return:{}\".format(self.cum_portfolio_return_memory[self.training_agent][-1]))\n",
        "\n",
        "      # df_daily_return = pd.DataFrame(self.portfolio_return_memory[self.training_agent])\n",
        "      # df_daily_return.columns = ['daily_return']\n",
        "      # if df_daily_return['daily_return'].std() !=0:\n",
        "      #   sharpe = (252**0.5)*df_daily_return['daily_return'].mean() / df_daily_return['daily_return'].std()\n",
        "      #   print(\"Sharpe: \",sharpe)\n",
        "      # print(\"=================================\")\n",
        "\n",
        "      return self.state[self.training_agent], self.reward[self.training_agent], self.terminal, {}\n",
        "\n",
        "    else:\n",
        "      # loop through all agents so that each of them predict an action (portfolio weights)\n",
        "      for agent in self.possible_agents:\n",
        "        # get action\n",
        "        if agent == self.training_agent:\n",
        "          action = actions\n",
        "        else:\n",
        "          # action, _states = self.agent_name_mapping[agent].predict(self.state[agent], deterministic=False)\n",
        "          action = self.individual_preds[agent][self.day[agent]]\n",
        "\n",
        "        # normalisation\n",
        "        weights = self.softmax_normalization(action) \n",
        "\n",
        "        # stock ratio - buy/sell/hold\n",
        "        prev_stock_ratio = self.actions_memory[agent][-1]\n",
        "        diff_stock_ratio = prev_stock_ratio - weights\n",
        "\n",
        "        # money - increase if sell, decrease if buy, no changes if hold\n",
        "        prev_money = self.money_memory[agent][-1]\n",
        "        curr_money = prev_money + sum(diff_stock_ratio * self.stock_volume_reference * self.data[agent][\"Close\"].values)\n",
        "        self.money_memory[agent].append(curr_money)\n",
        "\n",
        "        # total value - money + currently held stock value\n",
        "        curr_total = curr_money + sum(weights * self.stock_volume_reference * self.data[agent][\"Close\"].values)\n",
        "        self.total_value_memory[agent].append(curr_total)\n",
        "\n",
        "        # actions memory\n",
        "        self.actions_memory[agent].append(weights)\n",
        "        last_day_memory = self.data[agent]\n",
        "\n",
        "        # load next state\n",
        "        self.day[agent] += 1\n",
        "        self.data[agent] = self.df.loc[self.day[agent]*self.state_space:self.day[agent]*self.state_space+self.state_space-1,:]\n",
        "        self.covs[agent] = self.data[agent]['cov_list'].values[0]\n",
        "        self.state[agent] =  np.append(np.array(self.covs[agent]), [self.data[agent][tech].values.tolist() for tech in self.tech_indicator_list ], axis=0)\n",
        "        \n",
        "        # calculate portfolio return\n",
        "        # individual stocks' return * weight\n",
        "        portfolio_return = sum(((self.data[agent][\"Close\"].values / last_day_memory[\"Close\"].values)-1)*weights)\n",
        "        \n",
        "        # save into memory\n",
        "        self.portfolio_return_memory[agent].append(portfolio_return)\n",
        "        self.cum_portfolio_return_memory[agent].append(self.cum_portfolio_return_memory[agent][-1] + portfolio_return)\n",
        "        self.date_memory[agent].append(self.data[agent][\"Date\"])            \n",
        "        self.asset_memory[agent].append(curr_total)\n",
        "\n",
        "        # the reward is the new portfolio value or end portfolio value\n",
        "        self.reward[agent] = curr_total \n",
        "        #self.reward = self.reward*self.reward_scaling\n",
        "      \n",
        "      # penalise or reward the target agent based on the result of all other agents\n",
        "      all_rewards = list(self.reward.values())\n",
        "      for agent in self.possible_agents:\n",
        "        # ratio = current agent / other agent\n",
        "        # if reward of current agent > other agent, ratio > 1, reward is increased\n",
        "        # else ratio < 1, reward is penalised\n",
        "        self.reward[agent] *= prod(self.reward[agent] / all_rewards)\n",
        "\n",
        "        # if money on hand is negative, large penalty is applied as this is unwanted\n",
        "        if self.money_memory[agent][-1] < 0:\n",
        "          self.reward[agent] *= -1\n",
        "\n",
        "    return self.state[agent], self.reward[self.training_agent], self.terminal, {}\n",
        "\n",
        "  def reset(self, seed=None, return_info=False, options=None):\n",
        "    # print(\"reset\")\n",
        "\n",
        "    # agents\n",
        "    self.agents = self.possible_agents[:]\n",
        "\n",
        "    # attributes\n",
        "    self.day = {\n",
        "        agent: 0 for agent in self.possible_agents\n",
        "    }\n",
        "    self.data = {\n",
        "        agent: self.df.loc[self.day[agent]*self.state_space:self.day[agent]*self.state_space+self.state_space-1,:] for agent in self.possible_agents\n",
        "    }\n",
        "    self.covs = {\n",
        "        agent: self.data[agent]['cov_list'].values[0] for agent in self.possible_agents\n",
        "    }\n",
        "    self.state = {\n",
        "        agent: np.append(np.array(self.covs[agent]), [self.data[agent][tech].values.tolist() for tech in self.tech_indicator_list ], axis=0) for agent in self.possible_agents\n",
        "    }\n",
        "\n",
        "    # memory\n",
        "    self.portfolio_value = {\n",
        "        agent: self.initial_amount for agent in self.possible_agents\n",
        "    }\n",
        "    self.asset_memory = {\n",
        "        agent: [self.initial_amount] for agent in self.possible_agents\n",
        "    }\n",
        "    self.portfolio_return_memory = {\n",
        "        agent: [0] for agent in self.possible_agents\n",
        "    }\n",
        "    self.cum_portfolio_return_memory = {\n",
        "        agent: [0] for agent in self.possible_agents\n",
        "    }\n",
        "\n",
        "    # stock ratio\n",
        "    self.actions_memory = {\n",
        "        agent: [[0]*self.stock_dim] for agent in self.possible_agents\n",
        "    }\n",
        "    self.date_memory = {\n",
        "        agent: [self.data[agent][\"Date\"]] for agent in self.possible_agents\n",
        "    }\n",
        "\n",
        "    # free cash\n",
        "    self.money_memory = {\n",
        "        agent: [self.initial_amount] for agent in self.possible_agents\n",
        "    }\n",
        "    # cash + stock value\n",
        "    self.total_value_memory = {\n",
        "        agent: [self.initial_amount] for agent in self.possible_agents\n",
        "    }\n",
        "\n",
        "    # rewards\n",
        "    self.reward = {\n",
        "        agent: None for agent in self.possible_agents\n",
        "    }\n",
        "    \n",
        "    # misc\n",
        "    self.terminal = False \n",
        "    \n",
        "    return self.state[self.training_agent] \n",
        "\n",
        "  def render(self):\n",
        "    return self.state[self.training_agent]\n",
        "\n",
        "  def seed(self, seed=None):\n",
        "    self.np_random, seed = seeding.np_random(seed)\n",
        "    return [seed]\n",
        "  \n",
        "  def softmax_normalization(self, actions):\n",
        "    numerator = np.exp(actions)\n",
        "    denominator = np.sum(np.exp(actions))\n",
        "    softmax_output = numerator/denominator\n",
        "    return softmax_output\n",
        "\n",
        "  def set_training_agent(self, agent):\n",
        "    # print(agent)\n",
        "    self.training_agent = agent\n",
        "\n",
        "  def learn(self, total_timesteps=1000):\n",
        "    # run till terminal in each timestep\n",
        "    for n in range(total_timesteps):\n",
        "      print(\"Step:\", n+1)\n",
        "      self.collect_individual_preds()\n",
        "      for agent in self.possible_agents:\n",
        "        self.set_training_agent(agent)\n",
        "        self.agent_name_mapping[agent] = self.agent_name_mapping[agent].learn(total_timesteps=1)\n",
        "        \n",
        "  def save_weights(self, num_it=100):\n",
        "    for idx, agent in enumerate(self.possible_agents):\n",
        "      self.agent_name_mapping[agent].save(\"comp_{}_{}.zip\".format(agent, num_it))\n",
        "\n",
        "  def load_weights(self, num_it=100):\n",
        "    for idx, agent in enumerate(self.possible_agents):\n",
        "      self.agent_name_mapping[agent].set_parameters(\"comp_{}_{}.zip\".format(agent, num_it))\n",
        "    \n",
        "  def predict(self):\n",
        "    self.set_training_agent(self.possible_agents[0])\n",
        "    curr_state = self.reset()\n",
        "    \n",
        "    self.collect_individual_preds()\n",
        "    for i in range(self.end_day):\n",
        "      for agent in self.possible_agents:\n",
        "        self.set_training_agent(agent)\n",
        "        action, _ = self.agent_name_mapping[agent].predict(curr_state)\n",
        "        curr_state, reward, term, _ = self.step(action)\n"
      ]
    },
    {
      "cell_type": "markdown",
      "metadata": {
        "id": "uhkvSDUV34m0"
      },
      "source": [
        "### A2C"
      ]
    },
    {
      "cell_type": "markdown",
      "metadata": {
        "id": "Ro3qjwSB34m1"
      },
      "source": [
        "1. Train from scratch"
      ]
    },
    {
      "cell_type": "code",
      "execution_count": null,
      "metadata": {
        "id": "-sUXCsb034m1"
      },
      "outputs": [],
      "source": [
        "a2c_comp_env = CompetitivePMEnv(df=mixed_df, algo_type=\"A2C\", **env_kwargs)\n",
        "a2c_comp_env.learn(\n",
        "    total_timesteps=training_timesteps,\n",
        ")\n",
        "a2c_comp_env.save_weights(num_it=100)"
      ]
    },
    {
      "cell_type": "markdown",
      "metadata": {
        "id": "_YekPFi134m1"
      },
      "source": [
        "2. Analysis from Pretrained"
      ]
    },
    {
      "cell_type": "code",
      "execution_count": null,
      "metadata": {
        "id": "tW2ARwEf34m1"
      },
      "outputs": [],
      "source": [
        "# initial iter=0\n",
        "\n",
        "a2c_comp_init = CompetitivePMEnv(df=test_mixed_df, algo_type=\"A2C\", **env_kwargs)\n",
        "a2c_comp_init.predict()"
      ]
    },
    {
      "cell_type": "code",
      "execution_count": null,
      "metadata": {
        "id": "Lb7y7gJZ34m1"
      },
      "outputs": [],
      "source": [
        "plot_line_graph(a2c_comp_init, range(0, a2c_comp_init.end_day+1), a2c_comp_init.cum_portfolio_return_memory, \"A2C Initial Competitive CRR\")"
      ]
    },
    {
      "cell_type": "code",
      "execution_count": null,
      "metadata": {
        "id": "6BrWseZL34m2"
      },
      "outputs": [],
      "source": [
        "# trained iter=100, load weights\n",
        "\n",
        "a2c_comp_env = CompetitivePMEnv(df=mixed_df, algo_type=\"A2C\", **env_kwargs)\n",
        "a2c_comp_env.load_weights(num_it=100)\n",
        "a2c_comp_env.predict()"
      ]
    },
    {
      "cell_type": "code",
      "execution_count": null,
      "metadata": {
        "id": "h37VHL5I34m2"
      },
      "outputs": [],
      "source": [
        "plot_line_graph(a2c_comp_env, range(0, a2c_comp_env.end_day+1), a2c_comp_env.cum_portfolio_return_memory, \"A2C n=100 Competitive CRR\")"
      ]
    },
    {
      "cell_type": "code",
      "execution_count": null,
      "metadata": {
        "id": "FLqsPhUf34m2"
      },
      "outputs": [],
      "source": [
        "# trained iter=200\n",
        "\n",
        "a2c_comp_env = CompetitivePMEnv(df=mixed_df, algo_type=\"A2C\", **env_kwargs)\n",
        "a2c_comp_env.load_weights(num_it=200)\n",
        "a2c_comp_env.predict()"
      ]
    },
    {
      "cell_type": "code",
      "execution_count": null,
      "metadata": {
        "id": "8SvT-y1934m2"
      },
      "outputs": [],
      "source": [
        "plot_line_graph(a2c_comp_env, range(0, a2c_comp_env.end_day+1), a2c_comp_env.cum_portfolio_return_memory, \"A2C n=200 Competitive CRR\")"
      ]
    },
    {
      "cell_type": "markdown",
      "metadata": {
        "id": "-vtsqgO034m2"
      },
      "source": [
        "### DDPG"
      ]
    },
    {
      "cell_type": "markdown",
      "metadata": {
        "id": "LjO1qsEh34m2"
      },
      "source": [
        "1. Train from scratch"
      ]
    },
    {
      "cell_type": "code",
      "execution_count": null,
      "metadata": {
        "id": "xWaxmS6734m2"
      },
      "outputs": [],
      "source": [
        "ddpg_comp_env = CompetitivePMEnv(df=mixed_df, algo_type=\"DDPG\", **env_kwargs)\n",
        "ddpg_comp_env.learn(\n",
        "    total_timesteps=training_timesteps,\n",
        ")\n",
        "ddpg_comp_env.save_weights(num_it=100)"
      ]
    },
    {
      "cell_type": "markdown",
      "metadata": {
        "id": "vlW5mw6F34m3"
      },
      "source": [
        "2. Analysis from Pretrained"
      ]
    },
    {
      "cell_type": "code",
      "execution_count": null,
      "metadata": {
        "id": "vdV0Ki8a34m3"
      },
      "outputs": [],
      "source": [
        "# initial iter=0\n",
        "\n",
        "ddpg_comp_init = CompetitivePMEnv(df=mixed_df, algo_type=\"DDPG\", **env_kwargs)\n",
        "ddpg_comp_init.predict()"
      ]
    },
    {
      "cell_type": "code",
      "execution_count": null,
      "metadata": {
        "id": "D6XQh6SR34m3"
      },
      "outputs": [],
      "source": [
        "plot_line_graph(ddpg_comp_init, range(0, ddpg_comp_init.end_day+1), ddpg_comp_init.cum_portfolio_return_memory, \"DDPG Initial Competitive CRR\")"
      ]
    },
    {
      "cell_type": "code",
      "execution_count": null,
      "metadata": {
        "id": "ylqQ8Ikp34m3"
      },
      "outputs": [],
      "source": [
        "# trained iter=100, load weights\n",
        "\n",
        "ddpg_comp_env = CompetitivePMEnv(df=mixed_df, algo_type=\"DDPG\", **env_kwargs)\n",
        "ddpg_comp_env.load_weights(num_it=100)\n",
        "ddpg_comp_env.predict()"
      ]
    },
    {
      "cell_type": "code",
      "execution_count": null,
      "metadata": {
        "id": "m7mr-K1134m3"
      },
      "outputs": [],
      "source": [
        "plot_line_graph(ddpg_comp_env, range(0, ddpg_comp_env.end_day+1), ddpg_comp_env.cum_portfolio_return_memory, \"DDPG n=100 Competitive CRR\")"
      ]
    },
    {
      "cell_type": "code",
      "execution_count": null,
      "metadata": {
        "id": "HMhADaAW34m3"
      },
      "outputs": [],
      "source": [
        "# trained iter=200\n",
        "\n",
        "ddpg_comp_env = CompetitivePMEnv(df=mixed_df, algo_type=\"DDPG\", **env_kwargs)\n",
        "ddpg_comp_env.load_weights(num_it=200)\n",
        "ddpg_comp_env.predict()"
      ]
    },
    {
      "cell_type": "code",
      "execution_count": null,
      "metadata": {
        "id": "AH9rFNZp34m3"
      },
      "outputs": [],
      "source": [
        "plot_line_graph(ddpg_comp_env, range(0, ddpg_comp_env.end_day+1), ddpg_comp_env.cum_portfolio_return_memory, \"DDPG n=200 Competitive CRR\")"
      ]
    },
    {
      "cell_type": "markdown",
      "metadata": {
        "id": "PeV0ssSd34m4"
      },
      "source": [
        "### PPO"
      ]
    },
    {
      "cell_type": "markdown",
      "source": [
        "### Random"
      ],
      "metadata": {
        "id": "BCs_6PntNLR3"
      }
    },
    {
      "cell_type": "code",
      "execution_count": null,
      "metadata": {
        "colab": {
          "base_uri": "https://localhost:8080/"
        },
        "id": "K-RzFhNgNQbJ",
        "outputId": "fb9530be-6d70-45ab-8be1-cfcd9c45139f"
      },
      "outputs": [
        {
          "output_type": "stream",
          "name": "stdout",
          "text": [
            "Step: 1\n",
            "Step: 2\n",
            "Step: 3\n",
            "Step: 4\n",
            "Step: 5\n"
          ]
        }
      ],
      "source": [
        "rand_comp_env = CompetitivePMEnv(df=mixed_df, algo_type=\"Rand\", **env_kwargs)\n",
        "rand_comp_env.learn(\n",
        "    total_timesteps=training_timesteps,\n",
        ")\n",
        "rand_comp_env.predict()"
      ]
    },
    {
      "cell_type": "code",
      "execution_count": null,
      "metadata": {
        "colab": {
          "base_uri": "https://localhost:8080/",
          "height": 281
        },
        "id": "7mhiQQ0TNQbM",
        "outputId": "86d505a4-c9a5-4a35-c0ec-036544029487"
      },
      "outputs": [
        {
          "output_type": "display_data",
          "data": {
            "text/plain": [
              "<Figure size 432x288 with 1 Axes>"
            ],
            "image/png": "[encoded data removed]"
          },
          "metadata": {
            "needs_background": "light"
          }
        }
      ],
      "source": [
        "plot_line_graph(rand_comp_env, range(0, rand_comp_env.end_day+1), rand_comp_env.cum_portfolio_return_memory, \"Random Competitive CRR\")"
      ]
    },
    {
      "cell_type": "markdown",
      "metadata": {
        "id": "Kmi8kYBr34m4"
      },
      "source": [
        "## Cooperative"
      ]
    },
    {
      "cell_type": "code",
      "execution_count": null,
      "metadata": {
        "id": "RmjMJvFA34m4"
      },
      "outputs": [],
      "source": [
        "class CooperativePMEnv(gym.Env):\n",
        "  metadata = {\"render_modes\": [\"human\"], \"name\": \"marlpm_v1\"}\n",
        "\n",
        "  def __init__(\n",
        "      self, \n",
        "      df,\n",
        "      stock_dim,\n",
        "      hmax,\n",
        "      initial_amount,\n",
        "      transaction_cost_pct,\n",
        "      reward_scaling,\n",
        "      state_space,\n",
        "      action_space,\n",
        "      tech_indicator_list,\n",
        "      turbulence_threshold=None,\n",
        "      lookback=252,\n",
        "      day=0,\n",
        "      render_mode=None,\n",
        "      algo_type=\"Mixed\", # default=mixed\n",
        "  ):\n",
        "\n",
        "    assert algo_type in [\"A2C\", \"DDPG\", \"PPO\", \"Mixed\", \"Rand\"]\n",
        "\n",
        "    # attributes\n",
        "    self.lookback=lookback\n",
        "    self.df = df\n",
        "    self.stock_dim = stock_dim\n",
        "    self.hmax = hmax\n",
        "    self.initial_amount = initial_amount\n",
        "    self.transaction_cost_pct =transaction_cost_pct\n",
        "    self.reward_scaling = reward_scaling\n",
        "    self.state_space = state_space\n",
        "    self.action_dim = action_space\n",
        "    self.tech_indicator_list = tech_indicator_list\n",
        "    self.possible_agents = TYPE_TO_NAMES[algo_type]\n",
        "    \n",
        "    # buy/sell ratio reference, to explore\n",
        "    self.end_day = len(self.df[\"Date\"].unique()) - 1\n",
        "    self.stock_volume_reference = 10000\n",
        "\n",
        "    # spaces\n",
        "    # check: spaces for observations only? sharing will affect?\n",
        "    self.action_space = gym.spaces.Box(low = -1, high = 1, shape = (self.action_dim,))\n",
        "    self.observation_space = gym.spaces.Box(low=-np.inf, high=np.inf, shape = (self.state_space+len(self.tech_indicator_list), self.state_space))\n",
        "\n",
        "    # agents\n",
        "    self.agent_name_mapping = {\n",
        "        agent: AGENT_STR_TO_OBJECT[algo_type](policy, self, self.end_day+1) for agent in self.possible_agents\n",
        "    }\n",
        "    self.training_agent = None\n",
        "    self.day = {\n",
        "        agent: day for agent in self.possible_agents\n",
        "    }\n",
        "\n",
        "    # data\n",
        "    self.data = {\n",
        "        agent: self.df.loc[self.day[agent]*self.state_space:self.day[agent]*self.state_space+self.state_space-1,:] for agent in self.possible_agents\n",
        "    }\n",
        "    self.covs = {\n",
        "        agent: self.data[agent]['cov_list'].values[0] for agent in self.possible_agents\n",
        "    }\n",
        "    self.state = {\n",
        "        agent: np.append(np.array(self.covs[agent]), [self.data[agent][tech].values.tolist() for tech in self.tech_indicator_list ], axis=0) for agent in self.possible_agents\n",
        "    }\n",
        "    self.terminal = False     \n",
        "    self.turbulence_threshold = turbulence_threshold   \n",
        "\n",
        "    # memory\n",
        "    self.portfolio_value = {\n",
        "        agent: self.initial_amount for agent in self.possible_agents\n",
        "    }\n",
        "    self.asset_memory = {\n",
        "        agent: [self.initial_amount] for agent in self.possible_agents\n",
        "    }\n",
        "    self.portfolio_return_memory = {\n",
        "        agent: [0] for agent in self.possible_agents\n",
        "    }\n",
        "    self.cum_portfolio_return_memory = {\n",
        "        agent: [0] for agent in self.possible_agents\n",
        "    }\n",
        "\n",
        "    # stock ratio\n",
        "    self.actions_memory = {\n",
        "        agent: [[0]*self.stock_dim] for agent in self.possible_agents\n",
        "    }\n",
        "    self.date_memory = {\n",
        "        agent: [self.data[agent][\"Date\"].unique()[0]] for agent in self.possible_agents\n",
        "    }\n",
        "\n",
        "    # free cash\n",
        "    self.money_memory = {\n",
        "        agent: [self.initial_amount] for agent in self.possible_agents\n",
        "    }\n",
        "    # cash + stock value\n",
        "    self.total_value_memory = {\n",
        "        agent: [self.initial_amount] for agent in self.possible_agents\n",
        "    }\n",
        "    # individual actions collection\n",
        "    self.individual_preds = {\n",
        "        agent: [] for agent in self.possible_agents\n",
        "    }\n",
        "\n",
        "    # render mode\n",
        "    self.render_mode = render_mode\n",
        "\n",
        "  def collect_individual_preds(self):\n",
        "    self.individual_preds = {\n",
        "        agent: [] for agent in self.possible_agents\n",
        "    }\n",
        "    for i in range(self.end_day+1):\n",
        "      # states are somewhat static\n",
        "      curr_data = self.df.loc[i*self.state_space:i*self.state_space+self.state_space-1,:]\n",
        "      curr_covs = curr_data['cov_list'].values[0]\n",
        "      curr_state = np.append(np.array(curr_covs), [curr_data[tech].values.tolist() for tech in self.tech_indicator_list ], axis=0)\n",
        "      for agent in self.possible_agents:\n",
        "        action, _states = self.agent_name_mapping[agent].predict(curr_state)\n",
        "        self.individual_preds[agent].append(action)\n",
        "  \n",
        "  def step(self, actions):\n",
        "\n",
        "    # termination\n",
        "    self.terminal = self.day[self.training_agent] >= self.end_day\n",
        "\n",
        "    if self.terminal:\n",
        "\n",
        "      # uncomment to print metrics on terminal\n",
        "      # print(\"=================================\")\n",
        "      # print(\"begin_money:{}\".format(self.asset_memory[self.training_agent][0]))           \n",
        "      # print(\"end_daily_total_portfolio_value:{}\".format(self.total_value_memory[self.training_agent][-1]))\n",
        "      # print(\"end_daily_portfolio_return:{}\".format(self.portfolio_return_memory[self.training_agent][-1]))\n",
        "      # print(\"end_cumulative_portfolio_return:{}\".format(self.cum_portfolio_return_memory[self.training_agent][-1]))\n",
        "\n",
        "      # df_daily_return = pd.DataFrame(self.portfolio_return_memory[self.training_agent])\n",
        "      # df_daily_return.columns = ['daily_return']\n",
        "      # if df_daily_return['daily_return'].std() !=0:\n",
        "      #   sharpe = (252**0.5)*df_daily_return['daily_return'].mean() / df_daily_return['daily_return'].std()\n",
        "      #   print(\"Sharpe: \",sharpe)\n",
        "      # print(\"=================================\")\n",
        "\n",
        "      return self.state[self.training_agent], self.reward[self.training_agent], self.terminal, {}\n",
        "\n",
        "    else:\n",
        "      # loop through all agents so that each of them predict an action (portfolio weights)\n",
        "      for agent in self.possible_agents:\n",
        "        # get action\n",
        "        if agent == self.training_agent:\n",
        "          action = actions\n",
        "        else:\n",
        "          # action, _states = self.agent_name_mapping[agent].predict(self.state[agent], deterministic=False)\n",
        "          action = self.individual_preds[agent][self.day[agent]]\n",
        "\n",
        "        # normalisation\n",
        "        weights = self.softmax_normalization(action) \n",
        "\n",
        "        # stock ratio - buy/sell/hold\n",
        "        prev_stock_ratio = self.actions_memory[agent][-1]\n",
        "        diff_stock_ratio = prev_stock_ratio - weights\n",
        "\n",
        "        # money - increase if sell, decrease if buy, no changes if hold\n",
        "        prev_money = self.money_memory[agent][-1]\n",
        "        curr_money = prev_money + sum(diff_stock_ratio * self.stock_volume_reference * self.data[agent][\"Close\"].values)\n",
        "        self.money_memory[agent].append(curr_money)\n",
        "\n",
        "        # total value - money + currently held stock value\n",
        "        curr_total = curr_money + sum(weights * self.stock_volume_reference * self.data[agent][\"Close\"].values)\n",
        "        self.total_value_memory[agent].append(curr_total)\n",
        "\n",
        "        # actions memory\n",
        "        self.actions_memory[agent].append(weights)\n",
        "        last_day_memory = self.data[agent]\n",
        "\n",
        "        # load next state\n",
        "        self.day[agent] += 1\n",
        "        self.data[agent] = self.df.loc[self.day[agent]*self.state_space:self.day[agent]*self.state_space+self.state_space-1,:]\n",
        "        self.covs[agent] = self.data[agent]['cov_list'].values[0]\n",
        "        self.state[agent] =  np.append(np.array(self.covs[agent]), [self.data[agent][tech].values.tolist() for tech in self.tech_indicator_list ], axis=0)\n",
        "        \n",
        "        # calculate portfolio return\n",
        "        # individual stocks' return * weight\n",
        "        portfolio_return = sum(((self.data[agent][\"Close\"].values / last_day_memory[\"Close\"].values)-1)*weights)\n",
        "\n",
        "        # save into memory\n",
        "        self.portfolio_return_memory[agent].append(portfolio_return)\n",
        "        self.cum_portfolio_return_memory[agent].append(self.cum_portfolio_return_memory[agent][-1] + portfolio_return)\n",
        "        self.date_memory[agent].append(self.data[agent][\"Date\"].unique()[0])            \n",
        "        self.asset_memory[agent].append(curr_total)\n",
        "\n",
        "        # the reward is the new portfolio value or end portfolio value\n",
        "        self.reward[agent] = curr_total \n",
        "        #self.reward = self.reward*self.reward_scaling\n",
        "      \n",
        "      # penalise or reward the target agent based on the result of all other agents\n",
        "      all_rewards = list(self.reward.values())\n",
        "      for agent in self.possible_agents:\n",
        "        # ratio = smaller reward / greater reward\n",
        "        # rewards have to be similar across all agents\n",
        "        # the greater the difference, the greater the penalty\n",
        "        self.reward[agent] *= prod([\n",
        "            pv / self.reward[agent]\n",
        "            if self.reward[agent] > pv\n",
        "            else self.reward[agent] / pv\n",
        "            for pv in all_rewards\n",
        "        ])\n",
        "\n",
        "        # if money on hand is negative, large penalty is applied as this is unwanted\n",
        "        if self.money_memory[agent][-1] < 0:\n",
        "          self.reward[agent] *= -1\n",
        "\n",
        "    return self.state[agent], self.reward[self.training_agent], self.terminal, {}\n",
        "\n",
        "  def reset(self, seed=None, return_info=False, options=None):\n",
        "    # print(\"reset\")\n",
        "\n",
        "    # agents\n",
        "    self.agents = self.possible_agents[:]\n",
        "\n",
        "    # attributes\n",
        "    self.day = {\n",
        "        agent: 0 for agent in self.possible_agents\n",
        "    }\n",
        "    self.data = {\n",
        "        agent: self.df.loc[self.day[agent]*self.state_space:self.day[agent]*self.state_space+self.state_space-1,:] for agent in self.possible_agents\n",
        "    }\n",
        "    self.covs = {\n",
        "        agent: self.data[agent]['cov_list'].values[0] for agent in self.possible_agents\n",
        "    }\n",
        "    self.state = {\n",
        "        agent: np.append(np.array(self.covs[agent]), [self.data[agent][tech].values.tolist() for tech in self.tech_indicator_list ], axis=0) for agent in self.possible_agents\n",
        "    }\n",
        "\n",
        "    # memory\n",
        "    self.portfolio_value = {\n",
        "        agent: self.initial_amount for agent in self.possible_agents\n",
        "    }\n",
        "    self.asset_memory = {\n",
        "        agent: [self.initial_amount] for agent in self.possible_agents\n",
        "    }\n",
        "    self.portfolio_return_memory = {\n",
        "        agent: [0] for agent in self.possible_agents\n",
        "    }\n",
        "    self.cum_portfolio_return_memory = {\n",
        "        agent: [0] for agent in self.possible_agents\n",
        "    }\n",
        "\n",
        "    # stock ratio\n",
        "    self.actions_memory = {\n",
        "        agent: [[0]*self.stock_dim] for agent in self.possible_agents\n",
        "    }\n",
        "    self.date_memory = {\n",
        "        agent: [self.data[agent][\"Date\"].unique()[0]] for agent in self.possible_agents\n",
        "    }\n",
        "\n",
        "    # free cash\n",
        "    self.money_memory = {\n",
        "        agent: [self.initial_amount] for agent in self.possible_agents\n",
        "    }\n",
        "    # cash + stock value\n",
        "    self.total_value_memory = {\n",
        "        agent: [self.initial_amount] for agent in self.possible_agents\n",
        "    }\n",
        "\n",
        "    # rewards\n",
        "    self.reward = {\n",
        "        agent: None for agent in self.possible_agents\n",
        "    }\n",
        "    \n",
        "    # misc\n",
        "    self.terminal = False \n",
        "    \n",
        "    return self.state[self.training_agent] \n",
        "\n",
        "  def render(self):\n",
        "    return self.state[self.training_agent]\n",
        "\n",
        "  def seed(self, seed=None):\n",
        "    self.np_random, seed = seeding.np_random(seed)\n",
        "    return [seed]\n",
        "  \n",
        "  def softmax_normalization(self, actions):\n",
        "    numerator = np.exp(actions)\n",
        "    denominator = np.sum(np.exp(actions))\n",
        "    softmax_output = numerator/denominator\n",
        "    return softmax_output\n",
        "\n",
        "  def set_training_agent(self, agent):\n",
        "    # print(agent)\n",
        "    self.training_agent = agent\n",
        "\n",
        "  def learn(self, total_timesteps=1000):\n",
        "    # run till terminal in each timestep\n",
        "    for n in range(total_timesteps):\n",
        "      print(\"Step:\", n+1)\n",
        "      self.collect_individual_preds()\n",
        "      for agent in self.possible_agents:\n",
        "        self.set_training_agent(agent)\n",
        "        self.agent_name_mapping[agent] = self.agent_name_mapping[agent].learn(total_timesteps=1)\n",
        "        \n",
        "  def save_weights(self, num_it=100):\n",
        "    for idx, agent in enumerate(self.possible_agents):\n",
        "      self.agent_name_mapping[agent].save(\"coop_{}_{}.zip\".format(agent, num_it))\n",
        "\n",
        "  def load_weights(self, num_it=100):\n",
        "    for idx, agent in enumerate(self.possible_agents):\n",
        "      self.agent_name_mapping[agent].set_parameters(\"coop_{}_{}.zip\".format(agent, num_it))\n",
        "\n",
        "  def predict(self):\n",
        "    self.set_training_agent(self.possible_agents[0])\n",
        "    curr_state = self.reset()\n",
        "    \n",
        "    self.collect_individual_preds()\n",
        "    for i in range(self.end_day):\n",
        "      for agent in self.possible_agents:\n",
        "        self.set_training_agent(agent)\n",
        "        action, _ = self.agent_name_mapping[agent].predict(curr_state)\n",
        "        curr_state, reward, term, _ = self.step(action)"
      ]
    },
    {
      "cell_type": "markdown",
      "metadata": {
        "id": "-ZfuAnux34m5"
      },
      "source": [
        "### A2C"
      ]
    },
    {
      "cell_type": "markdown",
      "metadata": {
        "id": "9be_VDvO34m5"
      },
      "source": [
        "### DDPG"
      ]
    },
    {
      "cell_type": "markdown",
      "metadata": {
        "id": "2tdu3aVf34m5"
      },
      "source": [
        "1. Train from scratch"
      ]
    },
    {
      "cell_type": "code",
      "execution_count": null,
      "metadata": {
        "id": "N2QqUCrl34m5"
      },
      "outputs": [],
      "source": [
        "ddpg_coop_env = CompetitivePMEnv(df=mixed_df, algo_type=\"DDPG\", **env_kwargs)\n",
        "ddpg_coop_env.learn(\n",
        "    total_timesteps=training_timesteps,\n",
        ")\n",
        "ddpg_coop_env.save_weights(num_it=100)"
      ]
    },
    {
      "cell_type": "markdown",
      "metadata": {
        "id": "V8VDByiy34m6"
      },
      "source": [
        "2. Analysis from Pretrained"
      ]
    },
    {
      "cell_type": "code",
      "execution_count": null,
      "metadata": {
        "id": "BU2ZHE9g34m6"
      },
      "outputs": [],
      "source": [
        "ddpg_coop_init = CooperativePMEnv(df=mixed_df, algo_type=\"DDPG\", **env_kwargs)\n",
        "ddpg_coop_init.predict()"
      ]
    },
    {
      "cell_type": "code",
      "execution_count": null,
      "metadata": {
        "id": "0fDEuQfd34m6"
      },
      "outputs": [],
      "source": [
        "plot_line_graph(ddpg_coop_init, range(0, ddpg_coop_init.end_day+1), ddpg_coop_init.cum_portfolio_return_memory, \"DDPG Initial Cooperative CRR\")"
      ]
    },
    {
      "cell_type": "code",
      "execution_count": null,
      "metadata": {
        "id": "xmC3hNKC34m6"
      },
      "outputs": [],
      "source": [
        "# trained iter=100, load weights\n",
        "\n",
        "ddpg_coop_env = CompetitivePMEnv(df=mixed_df, algo_type=\"DDPG\", **env_kwargs)\n",
        "ddpg_coop_env.load_weights(num_it=100)\n",
        "ddpg_coop_env.predict()"
      ]
    },
    {
      "cell_type": "code",
      "execution_count": null,
      "metadata": {
        "id": "iSBye-dB34m6"
      },
      "outputs": [],
      "source": [
        "plot_line_graph(ddpg_coop_env, range(0, ddpg_coop_env.end_day+1), ddpg_coop_env.cum_portfolio_return_memory, \"DDPG n=100 Cooperative CRR\")"
      ]
    },
    {
      "cell_type": "code",
      "execution_count": null,
      "metadata": {
        "id": "dzTEna1v34m6"
      },
      "outputs": [],
      "source": [
        "# trained iter=200, load weights\n",
        "\n",
        "ddpg_coop_env = CompetitivePMEnv(df=mixed_df, algo_type=\"DDPG\", **env_kwargs)\n",
        "ddpg_coop_env.load_weights(num_it=200)\n",
        "ddpg_coop_env.predict()"
      ]
    },
    {
      "cell_type": "code",
      "execution_count": null,
      "metadata": {
        "id": "ThU2L5ch34m6"
      },
      "outputs": [],
      "source": [
        "plot_line_graph(ddpg_coop_env, range(0, ddpg_coop_env.end_day+1), ddpg_coop_env.cum_portfolio_return_memory, \"DDPG n=200 Cooperative CRR\")"
      ]
    },
    {
      "cell_type": "markdown",
      "metadata": {
        "id": "jY6tolKe34m6"
      },
      "source": [
        "### PPO"
      ]
    },
    {
      "cell_type": "markdown",
      "source": [
        "### Random"
      ],
      "metadata": {
        "id": "4BEMXY2UN_wP"
      }
    },
    {
      "cell_type": "code",
      "execution_count": null,
      "metadata": {
        "colab": {
          "base_uri": "https://localhost:8080/"
        },
        "outputId": "0b68fc44-fb19-4a2e-ea27-edfd5cce5ce3",
        "id": "o9qa2s08OApt"
      },
      "outputs": [
        {
          "output_type": "stream",
          "name": "stdout",
          "text": [
            "Step: 1\n",
            "Step: 2\n",
            "Step: 3\n",
            "Step: 4\n",
            "Step: 5\n"
          ]
        }
      ],
      "source": [
        "rand_coop_env = CooperativePMEnv(df=mixed_df, algo_type=\"Rand\", **env_kwargs)\n",
        "rand_coop_env.learn(\n",
        "    total_timesteps=training_timesteps,\n",
        ")\n",
        "rand_coop_env.predict()"
      ]
    },
    {
      "cell_type": "code",
      "execution_count": null,
      "metadata": {
        "colab": {
          "base_uri": "https://localhost:8080/",
          "height": 281
        },
        "outputId": "d95d98bf-6654-4df2-d25e-e2e9bb3fcb9d",
        "id": "-AOW07H9OApu"
      },
      "outputs": [
        {
          "output_type": "display_data",
          "data": {
            "text/plain": [
              "<Figure size 432x288 with 1 Axes>"
            ],
            "image/png": "[encoded data removed]"
          },
          "metadata": {
            "needs_background": "light"
          }
        }
      ],
      "source": [
        "plot_line_graph(rand_coop_env, range(0, rand_coop_env.end_day+1), rand_coop_env.cum_portfolio_return_memory, \"Random Cooperative CRR\")"
      ]
    },
    {
      "cell_type": "markdown",
      "metadata": {
        "id": "_VckgtAk34m6"
      },
      "source": [
        "# Benchmark\n",
        "After the strategies have been construct, we are going to use buy and hold and constance_rebalancing to compare the efficiency of the algorithm.\n",
        "We are using DRR, CRR, Varience, and Sharpe ratio to measure the performance of the benchmark algo."
      ]
    },
    {
      "cell_type": "markdown",
      "metadata": {
        "id": "ZgObSN8B34m7"
      },
      "source": [
        "### DRR\n",
        "The Daily rate of return can be computed by\n",
        "\n",
        "$$ DRR = { Price_{today} - Price_{prevday}} $$"
      ]
    },
    {
      "cell_type": "code",
      "execution_count": null,
      "metadata": {
        "id": "jbrgNA1I34m7"
      },
      "outputs": [],
      "source": [
        "# use DRR column\n",
        "def portfolio_daily_rate_of_return(portfolio_df, initial_amount):\n",
        "    if not ('DRR' in portfolio_df):\n",
        "        portfolio_df['DRR'] = np.nan\n",
        "    portfolio_df['DRR'] = ( portfolio_df['Sum'] - np.roll(portfolio_df['Sum'], shift=1))/portfolio_df['Sum']\n",
        "    portfolio_df.loc[portfolio_df.index[0], 'DRR']= (portfolio_df.loc[portfolio_df.index[0], 'Sum'] -initial_amount) /initial_amount\n",
        "    return portfolio_df \n"
      ]
    },
    {
      "cell_type": "markdown",
      "metadata": {
        "id": "VgCFKAcJ34m7"
      },
      "source": [
        "### CRR\n",
        "The Cumulative rate or the sum of the DRR can be computed by\n",
        "\n",
        "$$ CRR = { Price_{today} - Price_{init}} $$"
      ]
    },
    {
      "cell_type": "code",
      "execution_count": null,
      "metadata": {
        "id": "X4gv7HB-34m7"
      },
      "outputs": [],
      "source": [
        "# use CRR column\n",
        "def portfolio_cumulative_rate_of_return(portfolio_df, initial_amount):\n",
        "    if not ('DRR' in portfolio_df):\n",
        "        portfolio_df = portfolio_daily_rate_of_return(portfolio_df, initial_amount)\n",
        "    if not ('CRR' in portfolio_df):\n",
        "        portfolio_df['CRR'] = np.nan\n",
        "    \n",
        "    portfolio_df['CRR'] = ( portfolio_df['Sum'] - initial_amount)/initial_amount\n",
        "\n",
        "    return portfolio_df "
      ]
    },
    {
      "cell_type": "code",
      "execution_count": null,
      "metadata": {
        "id": "HgFXVo-Q34m7"
      },
      "outputs": [],
      "source": [
        "def portfolio_get_cumulative_rate_of_return(portfolio_df, index=-1):\n",
        "    return portfolio_df.loc[portfolio_df.index[index], 'CRR']"
      ]
    },
    {
      "cell_type": "markdown",
      "metadata": {
        "id": "LK3m7rUW34m7"
      },
      "source": [
        "### Variance\n",
        "The Variance can be computed by using the following equation\n",
        "\n",
        "$$ Var = { \\Sigma( DRR - E_{DRR} )^2 \\over Time} $$"
      ]
    },
    {
      "cell_type": "code",
      "execution_count": null,
      "metadata": {
        "id": "IrhGVYAX34m7"
      },
      "outputs": [],
      "source": [
        "def portfolio_varience(portfolio_df):\n",
        "    drr_sum = portfolio_df.loc[portfolio_df.index[-1], 'CRR']/portfolio_df.__len__()\n",
        "    diff_sq = np.square(portfolio_df['DRR'] - drr_sum)\n",
        "    var = diff_sq.sum()/portfolio_df.__len__()\n",
        "    return var"
      ]
    },
    {
      "cell_type": "markdown",
      "metadata": {
        "id": "f1cJKNiv34m8"
      },
      "source": [
        "### Sharpe ratio\n",
        "The ratio can be computed by using the following equation\n",
        "\n",
        "$$ Sharpe = { R_{portfolio} - R_{riskfree} \\over \\sigma_{portfolio}} $$"
      ]
    },
    {
      "cell_type": "code",
      "execution_count": null,
      "metadata": {
        "id": "jxA9EUEG34m8"
      },
      "outputs": [],
      "source": [
        "# compute the portfolio sharpe ratio\n",
        "def portfolio_sharpe_ratio(portfolio_df, port_sd, riskfree=0.0151, at_index=-1):\n",
        "    year_count = portfolio_df.__len__()/252\n",
        "    asset_return = portfolio_df.loc[portfolio_df.index[at_index], 'CRR']/year_count\n",
        "    return (asset_return - riskfree)/port_sd"
      ]
    },
    {
      "cell_type": "markdown",
      "metadata": {
        "id": "xbLcVVXd34m8"
      },
      "source": [
        "### Define a class for running rebalancing algo"
      ]
    },
    {
      "cell_type": "code",
      "execution_count": null,
      "metadata": {
        "id": "q3riguQB34m8"
      },
      "outputs": [],
      "source": [
        "class ConstanceBalancingOnTime:\n",
        "    def __init__(self, \n",
        "                df,\n",
        "                holding_ratio,\n",
        "                rebalance_time,\n",
        "                initial_amount,\n",
        "                transaction_cost_pct,\n",
        "                lookback=252,\n",
        "                day = 0):\n",
        "        self.df = df\n",
        "        self.rebalance_time = rebalance_time\n",
        "        self.holding_ratio = np.array(holding_ratio)\n",
        "        self.initial_amount = initial_amount\n",
        "        self.transaction_cost_pct = transaction_cost_pct\n",
        "        self.lookback = lookback\n",
        "        self.day = day\n",
        "\n",
        "        self.ticker_list = df[\"tic\"].unique()\n",
        "        self.stock_count = len(self.ticker_list)\n",
        "        # the first one is cash on hand followed by the stock in the tickers\n",
        "        self.asset_amount = self.holding_ratio * initial_amount\n",
        "\n",
        "        self.portfolio_memory = self._create_initial_memory()\n",
        "        self._write_memory_at_index(0)\n",
        "\n",
        "        #for keeping matric\n",
        "        self.metric = {}\n",
        "\n",
        "        \n",
        "\n",
        "    def step(self):\n",
        "        # incase \n",
        "        self.day += 1\n",
        "        # if (self.day == 1):\n",
        "        #     current_value = self.initial_amount / (self.transaction_cost_pct * self.holding_ratio[1:].sum() + self.initial_amount)\n",
        "        #     self.asset_amount = current_value * self.holding_ratio\n",
        "        #     return\n",
        "        \n",
        "        for index in range(self.stock_count):\n",
        "            try:\n",
        "                self.asset_amount[index+1] *= self._update_assetprice_by_ratio(int(self.day), self.ticker_list[index])\n",
        "            except:\n",
        "                print(\"error at day\",self.day, index)\n",
        "        \n",
        "        # rebalancing\n",
        "        if (self.day % self.rebalance_time == 0):\n",
        "\n",
        "            after_asset_amount = np.array([])\n",
        "            \n",
        "            current_asset_value = self.asset_amount.sum()\n",
        "            current_asset_ratio = self.asset_amount/current_asset_value\n",
        "\n",
        "            #check the sign of asset allowcation\n",
        "            asset_adapt_sign = self.holding_ratio >= current_asset_ratio\n",
        "                \n",
        "            asset_matrix = np.array([np.append(self.holding_ratio.copy(), 0)])\n",
        "            \n",
        "            for i in range(self.stock_count+1): \n",
        "                # the amount of add in that we will add into the asset line\n",
        "                add_in_asset_line = 1\n",
        "                if ((self.holding_ratio == current_asset_ratio)[i] ):\n",
        "                    pass\n",
        "                elif (asset_adapt_sign[i] ):\n",
        "                    add_in_asset_line += self.transaction_cost_pct\n",
        "                else:\n",
        "                    add_in_asset_line -= self.transaction_cost_pct\n",
        "                # print(add_in_asset_line)\n",
        "                current_asset_line = np.zeros(self.stock_count+2)\n",
        "                current_asset_line[i] = add_in_asset_line\n",
        "                current_asset_line[-1] = 1\n",
        "                # print(asset_matrix.shape, current_asset_line.shape)\n",
        "                # print(asset_matrix, current_asset_line)\n",
        "                asset_matrix = np.append(asset_matrix.copy(), np.array([current_asset_line.copy()]), axis=0)\n",
        "            asset_matrix = asset_matrix.T\n",
        "            \n",
        "            modify_amount = np.linalg.solve(asset_matrix, np.append(self.asset_amount, 0))[1:]\n",
        "            self.asset_amount = self.asset_amount - modify_amount\n",
        "        \n",
        "        # write the allocation to the memory df\n",
        "        self._write_memory_at_index(self.day)\n",
        "\n",
        "    def run(self):\n",
        "        time_range = self.df.__len__() / self.stock_count\n",
        "        for i in range(int(time_range)-1):\n",
        "            self.step()\n",
        "\n",
        "    def reset(self):\n",
        "        self.day = 0\n",
        "        self.asset_amount = self.holding_ratio * self.initial_amount\n",
        "\n",
        "        self.portfolio_memory = self._create_initial_memory()\n",
        "        self._write_memory_at_index(0)\n",
        "\n",
        "    def get_asset_amount(self):\n",
        "        return self.asset_amount.sum()\n",
        "    \n",
        "    def add_return(self, method):\n",
        "        self.portfolio_memory = method(self.portfolio_memory, self.initial_amount)\n",
        "\n",
        "    def add_metric(self, new_matric, new_matric_name, **kwargs):\n",
        "        matric_res = new_matric(self.portfolio_memory, **kwargs)\n",
        "        self.metric.update({new_matric_name: matric_res}) \n",
        "\n",
        "    def _create_initial_memory(self):\n",
        "        col = np.append(np.array(['Cash']), self.ticker_list)\n",
        "        col = np.append(col, np.array(['Sum']))\n",
        "        initial_memory = pd.DataFrame(index=self.df.index.unique(), columns=col)\n",
        "        \n",
        "        return initial_memory\n",
        "    \n",
        "    def _update_assetprice_by_ratio(self, time_index: int, ticker: str):\n",
        "        return self.df[self.df['tic'] == ticker].iloc[time_index]['Close']/self.df[self.df['tic'] == ticker].iloc[time_index-1]['Close']\n",
        "    \n",
        "    def _write_memory_at_index(self, index: int):\n",
        "        self.portfolio_memory.iloc[index]['Cash'] = self.asset_amount[0]\n",
        "        \n",
        "        for stock_index in range(self.stock_count):\n",
        "            current_ticker = self.ticker_list[stock_index]\n",
        "            self.portfolio_memory.iloc[index][current_ticker] = self.asset_amount[stock_index+1]\n",
        "        self.portfolio_memory.iloc[index]['Sum'] = self.asset_amount.sum()\n",
        "    \n"
      ]
    },
    {
      "cell_type": "code",
      "execution_count": null,
      "metadata": {
        "id": "Ae0NeHHP34m8",
        "outputId": "222b1602-cfc3-4580-db3a-11a9df895fca"
      },
      "outputs": [
        {
          "data": {
            "text/plain": [
              "array(['AAPL', 'CAAS'], dtype=object)"
            ]
          },
          "execution_count": 28,
          "metadata": {},
          "output_type": "execute_result"
        }
      ],
      "source": [
        "mixed_df[\"tic\"].unique()"
      ]
    },
    {
      "cell_type": "code",
      "execution_count": null,
      "metadata": {
        "id": "pv9P70n034m9"
      },
      "outputs": [],
      "source": [
        "#df for testing\n",
        "test_df = mixed_df.copy().set_index('Date')\n",
        "risk_free_2022 = 0.025"
      ]
    },
    {
      "cell_type": "markdown",
      "metadata": {
        "id": "itex_ODa34m9"
      },
      "source": [
        "#### Single stock"
      ]
    },
    {
      "cell_type": "code",
      "execution_count": null,
      "metadata": {
        "id": "-l2KAB8134m9"
      },
      "outputs": [],
      "source": [
        "env_kwargs = {\n",
        "  \"holding_ratio\": [0, 0.5], \n",
        "  \"rebalance_time\": 60,\n",
        "  \"initial_amount\": 1000000, \n",
        "  \"transaction_cost_pct\": 0.001\n",
        "}\n",
        "\n",
        "cr = ConstanceBalancingOnTime(df = new_aapl_df.copy().set_index('Date'), **env_kwargs)\n"
      ]
    },
    {
      "cell_type": "code",
      "execution_count": null,
      "metadata": {
        "id": "SQm6U83234m9"
      },
      "outputs": [],
      "source": [
        "cr.reset()\n",
        "cr.run()"
      ]
    },
    {
      "cell_type": "code",
      "execution_count": null,
      "metadata": {
        "id": "KDGKkoyd34m9"
      },
      "outputs": [],
      "source": [
        "cr.add_return(portfolio_daily_rate_of_return)\n",
        "cr.add_return(portfolio_cumulative_rate_of_return)\n",
        "\n",
        "cr.add_metric(portfolio_varience, \"varience\")\n",
        "cr.add_metric(portfolio_get_cumulative_rate_of_return, \"crr\")\n",
        "env_kwargs = {\n",
        "  \"port_sd\": np.sqrt(cr.metric['varience']), \n",
        "  \"riskfree\": risk_free_2022,\n",
        "}\n",
        "\n",
        "cr.add_metric(portfolio_sharpe_ratio, \"sharpe\", **env_kwargs)\n"
      ]
    },
    {
      "cell_type": "code",
      "execution_count": null,
      "metadata": {
        "id": "Srm2aTXB34m9",
        "outputId": "aebb398e-7cf4-4892-a6d1-626a53e0e8ed"
      },
      "outputs": [
        {
          "name": "stdout",
          "output_type": "stream",
          "text": [
            "rebalance time 60\n",
            "initial amount 1000000\n",
            "tickers ['AAPL']\n",
            "stock count 1\n"
          ]
        },
        {
          "data": {
            "text/plain": [
              "{'varience': 0.0007138874448694907,\n",
              " 'crr': 0.8275545459579413,\n",
              " 'sharpe': 6.815237131372679}"
            ]
          },
          "execution_count": 33,
          "metadata": {},
          "output_type": "execute_result"
        }
      ],
      "source": [
        "print(\"rebalance time\", cr.rebalance_time)\n",
        "print(\"initial amount\", cr.initial_amount)\n",
        "print(\"tickers\", cr.ticker_list)\n",
        "print(\"stock count\", cr.stock_count)\n",
        "\n",
        "cr.metric"
      ]
    },
    {
      "cell_type": "markdown",
      "metadata": {
        "id": "PtlIsjmk34m9"
      },
      "source": [
        "#### Constance rebalance"
      ]
    },
    {
      "cell_type": "code",
      "execution_count": null,
      "metadata": {
        "id": "tWidVA9p34m9"
      },
      "outputs": [],
      "source": [
        "env_kwargs = {\n",
        "  \"holding_ratio\": [0,0.5, 0.5], \n",
        "  \"rebalance_time\": 60,\n",
        "  \"initial_amount\": 1000000, \n",
        "  \"transaction_cost_pct\": 0.001\n",
        "}\n",
        "\n",
        "cr = ConstanceBalancingOnTime(df = test_df, **env_kwargs)\n"
      ]
    },
    {
      "cell_type": "code",
      "execution_count": null,
      "metadata": {
        "id": "ZUtP9_sv34m9"
      },
      "outputs": [],
      "source": [
        "cr.reset()\n",
        "cr.run()"
      ]
    },
    {
      "cell_type": "code",
      "execution_count": null,
      "metadata": {
        "id": "wCU4cZoQ34m-"
      },
      "outputs": [],
      "source": [
        "cr.add_return(portfolio_daily_rate_of_return)\n",
        "cr.add_return(portfolio_cumulative_rate_of_return)\n",
        "\n",
        "cr.add_metric(portfolio_varience, \"varience\")\n",
        "cr.add_metric(portfolio_get_cumulative_rate_of_return, \"crr\")\n",
        "env_kwargs = {\n",
        "  \"port_sd\": np.sqrt(cr.metric['varience']), \n",
        "  \"riskfree\": risk_free_2022,\n",
        "}\n",
        "\n",
        "cr.add_metric(portfolio_sharpe_ratio, \"sharpe\", **env_kwargs)\n"
      ]
    },
    {
      "cell_type": "code",
      "execution_count": null,
      "metadata": {
        "id": "M-9KK8vG34m-",
        "outputId": "14739b35-15b1-493e-df3c-04aa7757d659"
      },
      "outputs": [
        {
          "name": "stdout",
          "output_type": "stream",
          "text": [
            "rebalance time 60\n",
            "initial amount 1000000\n",
            "tickers ['AAPL' 'CAAS']\n",
            "stock count 2\n"
          ]
        },
        {
          "data": {
            "text/plain": [
              "{'varience': 0.0010014236330381694,\n",
              " 'crr': 2.60775359627078,\n",
              " 'sharpe': 19.831894080392228}"
            ]
          },
          "execution_count": 37,
          "metadata": {},
          "output_type": "execute_result"
        }
      ],
      "source": [
        "print(\"rebalance time\", cr.rebalance_time)\n",
        "print(\"initial amount\", cr.initial_amount)\n",
        "print(\"tickers\", cr.ticker_list)\n",
        "print(\"stock count\", cr.stock_count)\n",
        "\n",
        "cr.metric"
      ]
    },
    {
      "cell_type": "markdown",
      "metadata": {
        "id": "gkYZTENz34m-"
      },
      "source": [
        "### Buy and Hold"
      ]
    },
    {
      "cell_type": "code",
      "execution_count": null,
      "metadata": {
        "id": "GSpBizhr34m-"
      },
      "outputs": [],
      "source": [
        "## let the time to be very high so the portfolio will not rebalance\n",
        "env_kwargs = {\n",
        "  \"holding_ratio\": [0,0.5,0.5], \n",
        "  \"rebalance_time\": 9999999999,\n",
        "  \"initial_amount\": 1000000, \n",
        "  \"transaction_cost_pct\": 0.001\n",
        "}\n",
        "\n",
        "buyhold = ConstanceBalancingOnTime(df = test_df, **env_kwargs)\n"
      ]
    },
    {
      "cell_type": "code",
      "execution_count": null,
      "metadata": {
        "id": "UwAZIFZW34m-"
      },
      "outputs": [],
      "source": [
        "buyhold.reset()\n",
        "buyhold.run()"
      ]
    },
    {
      "cell_type": "code",
      "execution_count": null,
      "metadata": {
        "id": "c-walY1i34m-"
      },
      "outputs": [],
      "source": [
        "buyhold.add_return(portfolio_daily_rate_of_return)\n",
        "buyhold.add_return(portfolio_cumulative_rate_of_return)\n",
        "buyhold.add_metric(portfolio_varience, \"varience\")\n",
        "buyhold.add_metric(portfolio_get_cumulative_rate_of_return, \"crr\")\n",
        "env_kwargs = {\n",
        "  \"port_sd\": np.sqrt(cr.metric['varience']), \n",
        "  \"riskfree\": risk_free_2022,\n",
        "}\n",
        "\n",
        "buyhold.add_metric(portfolio_sharpe_ratio, \"sharpe\", **env_kwargs)"
      ]
    },
    {
      "cell_type": "code",
      "execution_count": null,
      "metadata": {
        "id": "doiMZy_Q34m-",
        "outputId": "07251c33-0159-47f3-c17c-729fa3f311c3"
      },
      "outputs": [
        {
          "name": "stdout",
          "output_type": "stream",
          "text": [
            "rebalance time 9999999999\n",
            "initial amount 1000000\n",
            "tickers ['AAPL' 'CAAS']\n",
            "stock count 2\n"
          ]
        },
        {
          "data": {
            "text/plain": [
              "{'varience': 0.0006593813320346426,\n",
              " 'crr': 1.9875545841049216,\n",
              " 'sharpe': 14.927411207558738}"
            ]
          },
          "execution_count": 41,
          "metadata": {},
          "output_type": "execute_result"
        }
      ],
      "source": [
        "print(\"rebalance time\", buyhold.rebalance_time)\n",
        "print(\"initial amount\", buyhold.initial_amount)\n",
        "print(\"tickers\", buyhold.ticker_list)\n",
        "print(\"stock count\", buyhold.stock_count)\n",
        "\n",
        "buyhold.metric\n"
      ]
    }
  ],
  "metadata": {
    "colab": {
      "provenance": [],
      "toc_visible": true
    },
    "kernelspec": {
      "display_name": "Python 3",
      "name": "python3"
    },
    "language_info": {
      "codemirror_mode": {
        "name": "ipython",
        "version": 3
      },
      "file_extension": ".py",
      "mimetype": "text/x-python",
      "name": "python",
      "nbconvert_exporter": "python",
      "pygments_lexer": "ipython3",
      "version": "3.10.9"
    }
  },
  "nbformat": 4,
  "nbformat_minor": 0
}