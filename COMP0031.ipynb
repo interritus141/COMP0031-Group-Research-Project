{
  "cells": [
    {
      "cell_type": "markdown",
      "metadata": {
        "colab_type": "text",
        "id": "view-in-github"
      },
      "source": [
        "<a href=\"https://colab.research.google.com/github/interritus141/COMP0031-Group-Research-Project/blob/master/COMP0031.ipynb\" target=\"_parent\"><img src=\"https://colab.research.google.com/assets/colab-badge.svg\" alt=\"Open In Colab\"/></a>"
      ]
    },
    {
      "cell_type": "markdown",
      "metadata": {
        "id": "ruZOtW7WfjEi"
      },
      "source": [
        "# Imports"
      ]
    },
    {
      "cell_type": "markdown",
      "metadata": {
        "id": "ry2CiBzShB_L"
      },
      "source": [
        "## Installation"
      ]
    },
    {
      "cell_type": "code",
      "execution_count": 15,
      "metadata": {
        "colab": {
          "base_uri": "https://localhost:8080/"
        },
        "id": "y6GHHhPTxucx",
        "outputId": "cd7c58f3-0ff7-4288-c39f-f5646018854c"
      },
      "outputs": [
        {
          "name": "stdout",
          "output_type": "stream",
          "text": [
            "Requirement already satisfied: yfinance in c:\\users\\looch\\onedrive\\desktop\\ucl_cs_3rd_year_mods\\comp0031 group research project\\comp0031-venv\\lib\\site-packages (0.2.12)\n",
            "Requirement already satisfied: cryptography>=3.3.2 in c:\\users\\looch\\onedrive\\desktop\\ucl_cs_3rd_year_mods\\comp0031 group research project\\comp0031-venv\\lib\\site-packages (from yfinance) (39.0.2)\n",
            "Requirement already satisfied: appdirs>=1.4.4 in c:\\users\\looch\\onedrive\\desktop\\ucl_cs_3rd_year_mods\\comp0031 group research project\\comp0031-venv\\lib\\site-packages (from yfinance) (1.4.4)\n",
            "Requirement already satisfied: multitasking>=0.0.7 in c:\\users\\looch\\onedrive\\desktop\\ucl_cs_3rd_year_mods\\comp0031 group research project\\comp0031-venv\\lib\\site-packages (from yfinance) (0.0.11)\n",
            "Requirement already satisfied: lxml>=4.9.1 in c:\\users\\looch\\onedrive\\desktop\\ucl_cs_3rd_year_mods\\comp0031 group research project\\comp0031-venv\\lib\\site-packages (from yfinance) (4.9.2)\n",
            "Requirement already satisfied: requests>=2.26 in c:\\users\\looch\\onedrive\\desktop\\ucl_cs_3rd_year_mods\\comp0031 group research project\\comp0031-venv\\lib\\site-packages (from yfinance) (2.28.2)\n",
            "Requirement already satisfied: frozendict>=2.3.4 in c:\\users\\looch\\onedrive\\desktop\\ucl_cs_3rd_year_mods\\comp0031 group research project\\comp0031-venv\\lib\\site-packages (from yfinance) (2.3.5)\n",
            "Requirement already satisfied: pytz>=2022.5 in c:\\users\\looch\\onedrive\\desktop\\ucl_cs_3rd_year_mods\\comp0031 group research project\\comp0031-venv\\lib\\site-packages (from yfinance) (2022.7.1)\n",
            "Requirement already satisfied: html5lib>=1.1 in c:\\users\\looch\\onedrive\\desktop\\ucl_cs_3rd_year_mods\\comp0031 group research project\\comp0031-venv\\lib\\site-packages (from yfinance) (1.1)\n",
            "Requirement already satisfied: beautifulsoup4>=4.11.1 in c:\\users\\looch\\onedrive\\desktop\\ucl_cs_3rd_year_mods\\comp0031 group research project\\comp0031-venv\\lib\\site-packages (from yfinance) (4.11.2)\n",
            "Requirement already satisfied: pandas>=1.3.0 in c:\\users\\looch\\onedrive\\desktop\\ucl_cs_3rd_year_mods\\comp0031 group research project\\comp0031-venv\\lib\\site-packages (from yfinance) (1.5.3)\n",
            "Requirement already satisfied: numpy>=1.16.5 in c:\\users\\looch\\onedrive\\desktop\\ucl_cs_3rd_year_mods\\comp0031 group research project\\comp0031-venv\\lib\\site-packages (from yfinance) (1.24.2)\n",
            "Requirement already satisfied: soupsieve>1.2 in c:\\users\\looch\\onedrive\\desktop\\ucl_cs_3rd_year_mods\\comp0031 group research project\\comp0031-venv\\lib\\site-packages (from beautifulsoup4>=4.11.1->yfinance) (2.4)\n",
            "Requirement already satisfied: cffi>=1.12 in c:\\users\\looch\\onedrive\\desktop\\ucl_cs_3rd_year_mods\\comp0031 group research project\\comp0031-venv\\lib\\site-packages (from cryptography>=3.3.2->yfinance) (1.15.1)\n",
            "Requirement already satisfied: webencodings in c:\\users\\looch\\onedrive\\desktop\\ucl_cs_3rd_year_mods\\comp0031 group research project\\comp0031-venv\\lib\\site-packages (from html5lib>=1.1->yfinance) (0.5.1)\n",
            "Requirement already satisfied: six>=1.9 in c:\\users\\looch\\onedrive\\desktop\\ucl_cs_3rd_year_mods\\comp0031 group research project\\comp0031-venv\\lib\\site-packages (from html5lib>=1.1->yfinance) (1.16.0)\n",
            "Requirement already satisfied: python-dateutil>=2.8.1 in c:\\users\\looch\\onedrive\\desktop\\ucl_cs_3rd_year_mods\\comp0031 group research project\\comp0031-venv\\lib\\site-packages (from pandas>=1.3.0->yfinance) (2.8.2)\n",
            "Requirement already satisfied: idna<4,>=2.5 in c:\\users\\looch\\onedrive\\desktop\\ucl_cs_3rd_year_mods\\comp0031 group research project\\comp0031-venv\\lib\\site-packages (from requests>=2.26->yfinance) (3.4)\n",
            "Requirement already satisfied: urllib3<1.27,>=1.21.1 in c:\\users\\looch\\onedrive\\desktop\\ucl_cs_3rd_year_mods\\comp0031 group research project\\comp0031-venv\\lib\\site-packages (from requests>=2.26->yfinance) (1.26.14)\n",
            "Requirement already satisfied: charset-normalizer<4,>=2 in c:\\users\\looch\\onedrive\\desktop\\ucl_cs_3rd_year_mods\\comp0031 group research project\\comp0031-venv\\lib\\site-packages (from requests>=2.26->yfinance) (3.1.0)\n",
            "Requirement already satisfied: certifi>=2017.4.17 in c:\\users\\looch\\onedrive\\desktop\\ucl_cs_3rd_year_mods\\comp0031 group research project\\comp0031-venv\\lib\\site-packages (from requests>=2.26->yfinance) (2022.12.7)\n",
            "Requirement already satisfied: pycparser in c:\\users\\looch\\onedrive\\desktop\\ucl_cs_3rd_year_mods\\comp0031 group research project\\comp0031-venv\\lib\\site-packages (from cffi>=1.12->cryptography>=3.3.2->yfinance) (2.21)\n",
            "Requirement already satisfied: gym in c:\\users\\looch\\onedrive\\desktop\\ucl_cs_3rd_year_mods\\comp0031 group research project\\comp0031-venv\\lib\\site-packages (0.21.0)\n",
            "Requirement already satisfied: numpy>=1.18.0 in c:\\users\\looch\\onedrive\\desktop\\ucl_cs_3rd_year_mods\\comp0031 group research project\\comp0031-venv\\lib\\site-packages (from gym) (1.24.2)\n",
            "Requirement already satisfied: cloudpickle>=1.2.0 in c:\\users\\looch\\onedrive\\desktop\\ucl_cs_3rd_year_mods\\comp0031 group research project\\comp0031-venv\\lib\\site-packages (from gym) (2.2.1)\n",
            "Requirement already satisfied: stable-baselines3==1.7.0 in c:\\users\\looch\\onedrive\\desktop\\ucl_cs_3rd_year_mods\\comp0031 group research project\\comp0031-venv\\lib\\site-packages (1.7.0)\n",
            "Requirement already satisfied: cloudpickle in c:\\users\\looch\\onedrive\\desktop\\ucl_cs_3rd_year_mods\\comp0031 group research project\\comp0031-venv\\lib\\site-packages (from stable-baselines3==1.7.0) (2.2.1)\n",
            "Requirement already satisfied: matplotlib in c:\\users\\looch\\onedrive\\desktop\\ucl_cs_3rd_year_mods\\comp0031 group research project\\comp0031-venv\\lib\\site-packages (from stable-baselines3==1.7.0) (3.7.1)\n",
            "Requirement already satisfied: torch>=1.11 in c:\\users\\looch\\onedrive\\desktop\\ucl_cs_3rd_year_mods\\comp0031 group research project\\comp0031-venv\\lib\\site-packages (from stable-baselines3==1.7.0) (1.13.1)\n",
            "Requirement already satisfied: gym==0.21 in c:\\users\\looch\\onedrive\\desktop\\ucl_cs_3rd_year_mods\\comp0031 group research project\\comp0031-venv\\lib\\site-packages (from stable-baselines3==1.7.0) (0.21.0)\n",
            "Requirement already satisfied: pandas in c:\\users\\looch\\onedrive\\desktop\\ucl_cs_3rd_year_mods\\comp0031 group research project\\comp0031-venv\\lib\\site-packages (from stable-baselines3==1.7.0) (1.5.3)\n",
            "Requirement already satisfied: importlib-metadata~=4.13 in c:\\users\\looch\\onedrive\\desktop\\ucl_cs_3rd_year_mods\\comp0031 group research project\\comp0031-venv\\lib\\site-packages (from stable-baselines3==1.7.0) (4.13.0)\n",
            "Requirement already satisfied: numpy in c:\\users\\looch\\onedrive\\desktop\\ucl_cs_3rd_year_mods\\comp0031 group research project\\comp0031-venv\\lib\\site-packages (from stable-baselines3==1.7.0) (1.24.2)\n",
            "Requirement already satisfied: zipp>=0.5 in c:\\users\\looch\\onedrive\\desktop\\ucl_cs_3rd_year_mods\\comp0031 group research project\\comp0031-venv\\lib\\site-packages (from importlib-metadata~=4.13->stable-baselines3==1.7.0) (3.15.0)\n",
            "Requirement already satisfied: typing-extensions in c:\\users\\looch\\onedrive\\desktop\\ucl_cs_3rd_year_mods\\comp0031 group research project\\comp0031-venv\\lib\\site-packages (from torch>=1.11->stable-baselines3==1.7.0) (4.5.0)\n",
            "Requirement already satisfied: cycler>=0.10 in c:\\users\\looch\\onedrive\\desktop\\ucl_cs_3rd_year_mods\\comp0031 group research project\\comp0031-venv\\lib\\site-packages (from matplotlib->stable-baselines3==1.7.0) (0.11.0)\n",
            "Requirement already satisfied: kiwisolver>=1.0.1 in c:\\users\\looch\\onedrive\\desktop\\ucl_cs_3rd_year_mods\\comp0031 group research project\\comp0031-venv\\lib\\site-packages (from matplotlib->stable-baselines3==1.7.0) (1.4.4)\n",
            "Requirement already satisfied: packaging>=20.0 in c:\\users\\looch\\onedrive\\desktop\\ucl_cs_3rd_year_mods\\comp0031 group research project\\comp0031-venv\\lib\\site-packages (from matplotlib->stable-baselines3==1.7.0) (23.0)\n",
            "Requirement already satisfied: pyparsing>=2.3.1 in c:\\users\\looch\\onedrive\\desktop\\ucl_cs_3rd_year_mods\\comp0031 group research project\\comp0031-venv\\lib\\site-packages (from matplotlib->stable-baselines3==1.7.0) (3.0.9)\n",
            "Requirement already satisfied: importlib-resources>=3.2.0 in c:\\users\\looch\\onedrive\\desktop\\ucl_cs_3rd_year_mods\\comp0031 group research project\\comp0031-venv\\lib\\site-packages (from matplotlib->stable-baselines3==1.7.0) (5.12.0)\n",
            "Requirement already satisfied: python-dateutil>=2.7 in c:\\users\\looch\\onedrive\\desktop\\ucl_cs_3rd_year_mods\\comp0031 group research project\\comp0031-venv\\lib\\site-packages (from matplotlib->stable-baselines3==1.7.0) (2.8.2)\n",
            "Requirement already satisfied: contourpy>=1.0.1 in c:\\users\\looch\\onedrive\\desktop\\ucl_cs_3rd_year_mods\\comp0031 group research project\\comp0031-venv\\lib\\site-packages (from matplotlib->stable-baselines3==1.7.0) (1.0.7)\n",
            "Requirement already satisfied: fonttools>=4.22.0 in c:\\users\\looch\\onedrive\\desktop\\ucl_cs_3rd_year_mods\\comp0031 group research project\\comp0031-venv\\lib\\site-packages (from matplotlib->stable-baselines3==1.7.0) (4.38.0)\n",
            "Requirement already satisfied: pillow>=6.2.0 in c:\\users\\looch\\onedrive\\desktop\\ucl_cs_3rd_year_mods\\comp0031 group research project\\comp0031-venv\\lib\\site-packages (from matplotlib->stable-baselines3==1.7.0) (9.4.0)\n",
            "Requirement already satisfied: pytz>=2020.1 in c:\\users\\looch\\onedrive\\desktop\\ucl_cs_3rd_year_mods\\comp0031 group research project\\comp0031-venv\\lib\\site-packages (from pandas->stable-baselines3==1.7.0) (2022.7.1)\n",
            "Requirement already satisfied: six>=1.5 in c:\\users\\looch\\onedrive\\desktop\\ucl_cs_3rd_year_mods\\comp0031 group research project\\comp0031-venv\\lib\\site-packages (from python-dateutil>=2.7->matplotlib->stable-baselines3==1.7.0) (1.16.0)\n",
            "Requirement already satisfied: ta in c:\\users\\looch\\onedrive\\desktop\\ucl_cs_3rd_year_mods\\comp0031 group research project\\comp0031-venv\\lib\\site-packages (0.10.2)\n",
            "Requirement already satisfied: numpy in c:\\users\\looch\\onedrive\\desktop\\ucl_cs_3rd_year_mods\\comp0031 group research project\\comp0031-venv\\lib\\site-packages (from ta) (1.24.2)\n",
            "Requirement already satisfied: pandas in c:\\users\\looch\\onedrive\\desktop\\ucl_cs_3rd_year_mods\\comp0031 group research project\\comp0031-venv\\lib\\site-packages (from ta) (1.5.3)\n",
            "Requirement already satisfied: pytz>=2020.1 in c:\\users\\looch\\onedrive\\desktop\\ucl_cs_3rd_year_mods\\comp0031 group research project\\comp0031-venv\\lib\\site-packages (from pandas->ta) (2022.7.1)\n",
            "Requirement already satisfied: python-dateutil>=2.8.1 in c:\\users\\looch\\onedrive\\desktop\\ucl_cs_3rd_year_mods\\comp0031 group research project\\comp0031-venv\\lib\\site-packages (from pandas->ta) (2.8.2)\n",
            "Requirement already satisfied: six>=1.5 in c:\\users\\looch\\onedrive\\desktop\\ucl_cs_3rd_year_mods\\comp0031 group research project\\comp0031-venv\\lib\\site-packages (from python-dateutil>=2.8.1->pandas->ta) (1.16.0)\n",
            "Requirement already satisfied: backtesting in c:\\users\\looch\\onedrive\\desktop\\ucl_cs_3rd_year_mods\\comp0031 group research project\\comp0031-venv\\lib\\site-packages (0.3.3)\n",
            "Requirement already satisfied: numpy>=1.17.0 in c:\\users\\looch\\onedrive\\desktop\\ucl_cs_3rd_year_mods\\comp0031 group research project\\comp0031-venv\\lib\\site-packages (from backtesting) (1.24.2)\n",
            "Requirement already satisfied: pandas!=0.25.0,>=0.25.0 in c:\\users\\looch\\onedrive\\desktop\\ucl_cs_3rd_year_mods\\comp0031 group research project\\comp0031-venv\\lib\\site-packages (from backtesting) (1.5.3)\n",
            "Requirement already satisfied: bokeh>=1.4.0 in c:\\users\\looch\\onedrive\\desktop\\ucl_cs_3rd_year_mods\\comp0031 group research project\\comp0031-venv\\lib\\site-packages (from backtesting) (3.0.3)\n",
            "Requirement already satisfied: contourpy>=1 in c:\\users\\looch\\onedrive\\desktop\\ucl_cs_3rd_year_mods\\comp0031 group research project\\comp0031-venv\\lib\\site-packages (from bokeh>=1.4.0->backtesting) (1.0.7)\n",
            "Requirement already satisfied: PyYAML>=3.10 in c:\\users\\looch\\onedrive\\desktop\\ucl_cs_3rd_year_mods\\comp0031 group research project\\comp0031-venv\\lib\\site-packages (from bokeh>=1.4.0->backtesting) (6.0)\n",
            "Requirement already satisfied: pillow>=7.1.0 in c:\\users\\looch\\onedrive\\desktop\\ucl_cs_3rd_year_mods\\comp0031 group research project\\comp0031-venv\\lib\\site-packages (from bokeh>=1.4.0->backtesting) (9.4.0)\n",
            "Requirement already satisfied: tornado>=5.1 in c:\\users\\looch\\onedrive\\desktop\\ucl_cs_3rd_year_mods\\comp0031 group research project\\comp0031-venv\\lib\\site-packages (from bokeh>=1.4.0->backtesting) (6.2)\n",
            "Requirement already satisfied: packaging>=16.8 in c:\\users\\looch\\onedrive\\desktop\\ucl_cs_3rd_year_mods\\comp0031 group research project\\comp0031-venv\\lib\\site-packages (from bokeh>=1.4.0->backtesting) (23.0)\n",
            "Requirement already satisfied: Jinja2>=2.9 in c:\\users\\looch\\onedrive\\desktop\\ucl_cs_3rd_year_mods\\comp0031 group research project\\comp0031-venv\\lib\\site-packages (from bokeh>=1.4.0->backtesting) (3.1.2)\n",
            "Requirement already satisfied: xyzservices>=2021.09.1 in c:\\users\\looch\\onedrive\\desktop\\ucl_cs_3rd_year_mods\\comp0031 group research project\\comp0031-venv\\lib\\site-packages (from bokeh>=1.4.0->backtesting) (2023.2.0)\n",
            "Requirement already satisfied: pytz>=2020.1 in c:\\users\\looch\\onedrive\\desktop\\ucl_cs_3rd_year_mods\\comp0031 group research project\\comp0031-venv\\lib\\site-packages (from pandas!=0.25.0,>=0.25.0->backtesting) (2022.7.1)\n",
            "Requirement already satisfied: python-dateutil>=2.8.1 in c:\\users\\looch\\onedrive\\desktop\\ucl_cs_3rd_year_mods\\comp0031 group research project\\comp0031-venv\\lib\\site-packages (from pandas!=0.25.0,>=0.25.0->backtesting) (2.8.2)\n",
            "Requirement already satisfied: MarkupSafe>=2.0 in c:\\users\\looch\\onedrive\\desktop\\ucl_cs_3rd_year_mods\\comp0031 group research project\\comp0031-venv\\lib\\site-packages (from Jinja2>=2.9->bokeh>=1.4.0->backtesting) (2.1.2)\n",
            "Requirement already satisfied: six>=1.5 in c:\\users\\looch\\onedrive\\desktop\\ucl_cs_3rd_year_mods\\comp0031 group research project\\comp0031-venv\\lib\\site-packages (from python-dateutil>=2.8.1->pandas!=0.25.0,>=0.25.0->backtesting) (1.16.0)\n",
            "Requirement already satisfied: numpy in c:\\users\\looch\\onedrive\\desktop\\ucl_cs_3rd_year_mods\\comp0031 group research project\\comp0031-venv\\lib\\site-packages (1.24.2)\n"
          ]
        }
      ],
      "source": [
        "! pip install yfinance\n",
        "! pip install gym\n",
        "! pip install stable-baselines3==1.7.0\n",
        "! pip install ta\n",
        "! pip install backtesting\n",
        "! pip install numpy"
      ]
    },
    {
      "cell_type": "markdown",
      "metadata": {
        "id": "bdRkLejZvwwr"
      },
      "source": [
        "## General"
      ]
    },
    {
      "cell_type": "code",
      "execution_count": null,
      "metadata": {
        "id": "XbrhDC6YfjuP"
      },
      "outputs": [],
      "source": [
        "import numpy as np\n",
        "import matplotlib.pyplot as plt\n",
        "import pandas as pd"
      ]
    },
    {
      "cell_type": "markdown",
      "metadata": {
        "id": "gVXYGAAkvz_t"
      },
      "source": [
        "## Data"
      ]
    },
    {
      "cell_type": "code",
      "execution_count": null,
      "metadata": {
        "id": "b-C5-niIeOoE"
      },
      "outputs": [],
      "source": [
        "from ta import add_all_ta_features\n",
        "import yfinance as yf"
      ]
    },
    {
      "cell_type": "markdown",
      "metadata": {
        "id": "-ThdiN2zwIlb"
      },
      "source": [
        "## Environment"
      ]
    },
    {
      "cell_type": "code",
      "execution_count": null,
      "metadata": {
        "id": "x7RFmf4lj3Yt"
      },
      "outputs": [],
      "source": [
        "import gym \n",
        "from stable_baselines3.common.vec_env import DummyVecEnv\n",
        "from stable_baselines3 import A2C, DDPG, DQN, PPO"
      ]
    },
    {
      "cell_type": "markdown",
      "metadata": {
        "id": "CmDiCGt8wMpk"
      },
      "source": [
        "## Backtesting"
      ]
    },
    {
      "cell_type": "code",
      "execution_count": null,
      "metadata": {
        "id": "5hCvaaWHpixR"
      },
      "outputs": [],
      "source": [
        "from backtesting import Backtest, Strategy"
      ]
    },
    {
      "cell_type": "markdown",
      "metadata": {
        "id": "itPimO3WZcN_"
      },
      "source": [
        "# Data"
      ]
    },
    {
      "cell_type": "markdown",
      "metadata": {
        "id": "NdcDd-Iqd_-Z"
      },
      "source": [
        "## Tech Indicators"
      ]
    },
    {
      "cell_type": "code",
      "execution_count": null,
      "metadata": {
        "id": "lbA-Y5Y3grjA"
      },
      "outputs": [],
      "source": [
        "def add_ta(df):\n",
        "  ta_df = add_all_ta_features(df, open=\"Open\", high=\"High\", low=\"Low\", close=\"Close\", volume=\"Volume\")\n",
        "  # print(ta_df.columns)\n",
        "  ta_df = ta_df[[\"Open\", \"High\", \"Low\", \"Close\", \"Volume\", \"Adj Close\", \"volume_obv\",\n",
        "                                \"volume_adi\", \"trend_adx\", \"momentum_ao\", \"trend_macd\", \"momentum_rsi\", \n",
        "                                \"momentum_stoch\"]]\n",
        "  ta_df = ta_df.fillna(ta_df.mean())\n",
        "  return ta_df"
      ]
    },
    {
      "cell_type": "markdown",
      "metadata": {
        "id": "ttJNGUWuvVF2"
      },
      "source": [
        "## Stocks"
      ]
    },
    {
      "cell_type": "markdown",
      "metadata": {
        "id": "J3JCv_b7iw9b"
      },
      "source": [
        "1. Apple Inc. (AAPL)\n",
        "2. Microsoft Corp. (MSFT)\n",
        "3. Amazon.com, Inc. ( AMZN)\n",
        "4. Tesla, Inc. (TSLA)\n",
        "5. Nvidia Corp. (NVDA)"
      ]
    },
    {
      "cell_type": "code",
      "execution_count": null,
      "metadata": {
        "colab": {
          "base_uri": "https://localhost:8080/"
        },
        "id": "KQW7POdeiKTJ",
        "outputId": "ab402ff2-b8a2-4834-a616-e8484aba3b1c"
      },
      "outputs": [],
      "source": [
        "stock_volatilities = {}\n",
        "stocks = dict.fromkeys([\"AAPL\", \"MSFT\", \"AMZN\", \"TSLA\", \"NVDA\", \"CAAS\"])\n",
        "\n",
        "for stock in stocks.keys():\n",
        "  stock_df = yf.download(stock, start=\"2018-01-01\", end=\"2022-12-31\", keepna=True)\n",
        "  stock_df = stock_df.fillna(stock_df.mean())\n",
        "  stock_df = add_ta(stock_df)\n",
        "  stocks[stock] = stock_df\n",
        "  stock_volatilities[stock] = None\n",
        "\n"
      ]
    },
    {
      "cell_type": "code",
      "execution_count": null,
      "metadata": {},
      "outputs": [],
      "source": [
        "def add_volatility(df, df_name):\n",
        "  df[\"Log returns\"] = np.log(df['Close'] / df['Close'].shift())\n",
        "  stock_volatilities[df_name] = df['Log returns'].std() * 252 ** .5\n"
      ]
    },
    {
      "cell_type": "code",
      "execution_count": null,
      "metadata": {},
      "outputs": [],
      "source": [
        "def visualise_volatility(df, df_name, volatility):\n",
        "  fig, ax = plt.subplots()\n",
        "  df['Log returns'].hist(ax=ax, bins=50, alpha=0.6, color='b')\n",
        "  ax.set_xlabel(\"Log return\")\n",
        "  ax.set_ylabel(\"Freq of log return\")\n",
        "  ax.set_title(\"{:s} volatility: {:.2f}%\".format(df_name, volatility*100))\n",
        "\n",
        "for stock, stock_df in stocks.items():\n",
        "  add_volatility(stock_df, stock)\n",
        "  # visualise_volatility(stock_df, stock, stock_volatilities[stock]) // use to generate graphs\n",
        "\n",
        "print(stock_volatilities)"
      ]
    },
    {
      "cell_type": "code",
      "execution_count": null,
      "metadata": {
        "id": "uJtS7XLJuSs2"
      },
      "outputs": [],
      "source": [
        "def add_cov(df):\n",
        "  df = df.reset_index()\n",
        "\n",
        "  cov_list = []\n",
        "  return_list = []\n",
        "\n",
        "  # look back is one year\n",
        "  lookback=252\n",
        "  for i in range(lookback,len(df.index.unique())):\n",
        "    data_lookback = df.iloc[i-lookback:i,:]\n",
        "    price_lookback=data_lookback.pivot_table(index = 'Date', values = 'Close')\n",
        "    return_lookback = price_lookback.pct_change().dropna()\n",
        "    return_list.append(return_lookback)\n",
        "\n",
        "    covs = return_lookback.cov().values \n",
        "    cov_list.append(covs)\n",
        "\n",
        "\n",
        "  df_cov = pd.DataFrame({'Date':df[\"Date\"].unique()[lookback:],'cov_list':cov_list,'return_list':return_list})\n",
        "  df = df.merge(df_cov, on='Date')\n",
        "  df = df.sort_values(['Date']).reset_index(drop=True)\n",
        "  return df"
      ]
    },
    {
      "cell_type": "code",
      "execution_count": null,
      "metadata": {
        "id": "QwlliL4VulGv"
      },
      "outputs": [],
      "source": [
        "aapl_df = add_cov(aapl_df)\n",
        "caas_df = add_cov(caas_df)"
      ]
    },
    {
      "cell_type": "code",
      "execution_count": null,
      "metadata": {
        "id": "8OADGaYLI-bv"
      },
      "outputs": [],
      "source": [
        "new_aapl_df = aapl_df.copy()\n",
        "new_aapl_df[\"tic\"] = \"AAPL\"\n",
        "new_caas_df = caas_df.copy()\n",
        "new_caas_df[\"tic\"] = \"CAAS\"\n",
        "mixed_df = pd.concat([new_aapl_df, new_caas_df])"
      ]
    },
    {
      "cell_type": "markdown",
      "metadata": {
        "id": "mVYjY6QFj2Uy"
      },
      "source": [
        "# Environment"
      ]
    },
    {
      "cell_type": "code",
      "execution_count": null,
      "metadata": {
        "id": "XIA9Tg7bmZGN"
      },
      "outputs": [],
      "source": [
        "class StockPortfolioEnv(gym.Env):\n",
        "  def __init__(self):\n",
        "    pass\n",
        "  \n",
        "  def reset(self):\n",
        "    pass\n",
        "  \n",
        "  def step(self, action):\n",
        "    pass"
      ]
    },
    {
      "cell_type": "markdown",
      "metadata": {
        "id": "r4kOv8W1vglS"
      },
      "source": [
        "## Kaggle Tutorial"
      ]
    },
    {
      "cell_type": "code",
      "execution_count": null,
      "metadata": {
        "id": "TybILV4De-mr"
      },
      "outputs": [],
      "source": [
        "class StockPortfolioEnv(gym.Env):\n",
        "  def __init__(self, \n",
        "                df,\n",
        "                stock_dim,\n",
        "                hmax,\n",
        "                initial_amount,\n",
        "                transaction_cost_pct,\n",
        "                reward_scaling,\n",
        "                state_space,\n",
        "                action_space,\n",
        "                tech_indicator_list,\n",
        "                turbulence_threshold=None,\n",
        "                lookback=252,\n",
        "                day = 0):\n",
        "    #super(StockEnv, self).__init__()\n",
        "    #money = 10 , scope = 1\n",
        "    self.day = day\n",
        "    self.lookback=lookback\n",
        "    self.df = df\n",
        "    self.stock_dim = stock_dim\n",
        "    self.hmax = hmax\n",
        "    self.initial_amount = initial_amount\n",
        "    self.transaction_cost_pct =transaction_cost_pct\n",
        "    self.reward_scaling = reward_scaling\n",
        "    self.state_space = state_space\n",
        "    self.action_space = action_space\n",
        "    self.tech_indicator_list = tech_indicator_list\n",
        "\n",
        "    # action_space normalization and shape is self.stock_dim\n",
        "    self.action_space = gym.spaces.Box(low = -1, high = 1,shape = (self.action_space,)) \n",
        "    # Shape = ??\n",
        "    # covariance matrix + technical indicators\n",
        "    self.observation_space = gym.spaces.Box(low=0, high=np.inf, shape = (1+len(self.tech_indicator_list),self.state_space))\n",
        "\n",
        "    # load data from a pandas dataframe\n",
        "    self.data = self.df.loc[self.day,:]\n",
        "    self.covs = [[x[0][0] for x in self.data['cov_list']]]\n",
        "    self.state =  np.append(np.array(self.covs), [self.data[tech].values.tolist() for tech in self.tech_indicator_list ], axis=0)\n",
        "    self.terminal = False     \n",
        "    self.turbulence_threshold = turbulence_threshold        \n",
        "    # initalize state: inital portfolio return + individual stock return + individual weights\n",
        "    self.portfolio_value = self.initial_amount\n",
        "\n",
        "    # memorize portfolio value each step\n",
        "    self.asset_memory = [self.initial_amount]\n",
        "    # memorize portfolio return each step\n",
        "    self.portfolio_return_memory = [0]\n",
        "    self.actions_memory=[[1/self.stock_dim]*self.stock_dim]\n",
        "    self.date_memory=[self.data[\"Date\"].unique()[0]]\n",
        "\n",
        "\n",
        "        \n",
        "  def step(self, actions):\n",
        "    # print(self.day)\n",
        "    self.terminal = self.day >= len(self.df.index.unique())/self.stock_dim-1\n",
        "    # print(actions)\n",
        "\n",
        "    if self.terminal:\n",
        "      df = pd.DataFrame(self.portfolio_return_memory)\n",
        "      df.columns = ['daily_return']\n",
        "      plt.plot(df.daily_return.cumsum(),'r')\n",
        "      # plt.savefig('results/cumulative_reward.png')\n",
        "      plt.close()\n",
        "\n",
        "      plt.plot(self.portfolio_return_memory,'r')\n",
        "      # plt.savefig('results/rewards.png')\n",
        "      plt.close()\n",
        "\n",
        "      print(\"=================================\")\n",
        "      print(\"begin_total_asset:{}\".format(self.asset_memory[0]))           \n",
        "      print(\"end_total_asset:{}\".format(self.portfolio_value))\n",
        "\n",
        "      df_daily_return = pd.DataFrame(self.portfolio_return_memory)\n",
        "      df_daily_return.columns = ['daily_return']\n",
        "      if df_daily_return['daily_return'].std() !=0:\n",
        "        sharpe = (252**0.5)*df_daily_return['daily_return'].mean()/ \\\n",
        "                  df_daily_return['daily_return'].std()\n",
        "        print(\"Sharpe: \",sharpe)\n",
        "      print(\"=================================\")\n",
        "\n",
        "      return self.state, self.reward, self.terminal,{}\n",
        "\n",
        "    else:\n",
        "      #print(\"Model actions: \",actions)\n",
        "      # actions are the portfolio weight\n",
        "      # normalize to sum of 1\n",
        "      #if (np.array(actions) - np.array(actions).min()).sum() != 0:\n",
        "      #  norm_actions = (np.array(actions) - np.array(actions).min()) / (np.array(actions) - np.array(actions).min()).sum()\n",
        "      #else:\n",
        "      #  norm_actions = actions\n",
        "      weights = self.softmax_normalization(actions) \n",
        "      #print(\"Normalized actions: \", weights)\n",
        "      self.actions_memory.append(weights)\n",
        "      last_day_memory = self.data\n",
        "\n",
        "      #load next state\n",
        "      self.day += 1\n",
        "      self.data = self.df.loc[self.day,:]\n",
        "      self.covs = [[x[0][0] for x in self.data['cov_list']]]\n",
        "      self.state =  np.append(np.array(self.covs), [self.data[tech].values.tolist() for tech in self.tech_indicator_list ], axis=0)\n",
        "      #print(self.state)\n",
        "      # calcualte portfolio return\n",
        "      # individual stocks' return * weight\n",
        "      portfolio_return = sum(((self.data[\"Close\"].values / last_day_memory[\"Close\"].values)-1)*weights)\n",
        "      # update portfolio value\n",
        "      new_portfolio_value = self.portfolio_value*(1+portfolio_return)\n",
        "      self.portfolio_value = new_portfolio_value\n",
        "\n",
        "      # save into memory\n",
        "      self.portfolio_return_memory.append(portfolio_return)\n",
        "      self.date_memory.append(self.data[\"Date\"].unique()[0])            \n",
        "      self.asset_memory.append(new_portfolio_value)\n",
        "\n",
        "      # the reward is the new portfolio value or end portfolo value\n",
        "      self.reward = new_portfolio_value \n",
        "      #print(\"Step reward: \", self.reward)\n",
        "      #self.reward = self.reward*self.reward_scaling\n",
        "\n",
        "    return self.state, self.reward, self.terminal, {}\n",
        "\n",
        "  def reset(self):\n",
        "    self.asset_memory = [self.initial_amount]\n",
        "    self.day = 0\n",
        "    self.data = self.df.loc[self.day,:]\n",
        "    # load states\n",
        "    self.covs = [[x[0][0] for x in self.data['cov_list']]]\n",
        "    self.state =  np.append(np.array(self.covs), [self.data[tech].values.tolist() for tech in self.tech_indicator_list ], axis=0)\n",
        "    self.portfolio_value = self.initial_amount\n",
        "    #self.cost = 0\n",
        "    #self.trades = 0\n",
        "    self.terminal = False \n",
        "    self.portfolio_return_memory = [0]\n",
        "    self.actions_memory=[[1/self.stock_dim]*self.stock_dim]\n",
        "    self.date_memory=[self.data[\"Date\"].unique()[0]] \n",
        "    return self.state\n",
        "    \n",
        "  def render(self, mode='human'):\n",
        "    return self.state\n",
        "      \n",
        "  def softmax_normalization(self, actions):\n",
        "    numerator = np.exp(actions)\n",
        "    denominator = np.sum(np.exp(actions))\n",
        "    softmax_output = numerator/denominator\n",
        "    return softmax_output\n",
        "\n",
        "  \n",
        "  def save_asset_memory(self):\n",
        "    date_list = self.date_memory\n",
        "    portfolio_return = self.portfolio_return_memory\n",
        "    #print(len(date_list))\n",
        "    #print(len(asset_list))\n",
        "    df_account_value = pd.DataFrame({'Date':date_list,'daily_return':portfolio_return})\n",
        "    return df_account_value\n",
        "\n",
        "  def save_action_memory(self):\n",
        "    # date and close price length must match actions length\n",
        "    date_list = self.date_memory\n",
        "    df_date = pd.DataFrame(date_list)\n",
        "    df_date.columns = ['Date']\n",
        "    \n",
        "    action_list = self.actions_memory\n",
        "    df_actions = pd.DataFrame(action_list)\n",
        "    df_actions.columns = self.data[\"tic\"]\n",
        "    df_actions.index = df_date[\"Date\"]\n",
        "    #df_actions = pd.DataFrame({'date':date_list,'actions':action_list})\n",
        "    return df_actions\n",
        "\n",
        "  def _seed(self, seed=None):\n",
        "    self.np_random, seed = seeding.np_random(seed)\n",
        "    return [seed]\n",
        "\n",
        "  def get_sb_env(self):\n",
        "    e = DummyVecEnv([lambda: self])\n",
        "    obs = e.reset()\n",
        "    return e, obs"
      ]
    },
    {
      "cell_type": "code",
      "execution_count": null,
      "metadata": {
        "id": "xtChcI_bWwtF"
      },
      "outputs": [],
      "source": [
        "stock_dimension = len(mixed_df[\"tic\"].unique())\n",
        "state_space = 2\n",
        "\n",
        "env_kwargs = {\n",
        "  \"hmax\": 100, \n",
        "  \"initial_amount\": 1000000, \n",
        "  \"transaction_cost_pct\": 0.001, \n",
        "  \"state_space\": state_space, \n",
        "  \"stock_dim\": stock_dimension, \n",
        "  \"tech_indicator_list\": [\n",
        "    \"volume_obv\",\n",
        "    \"volume_adi\", \n",
        "    \"trend_adx\", \n",
        "    \"momentum_ao\", \n",
        "    \"trend_macd\", \n",
        "    \"momentum_rsi\", \n",
        "    \"momentum_stoch\"\n",
        "  ], \n",
        "  \"action_space\": stock_dimension, \n",
        "  \"reward_scaling\": 1e-4\n",
        "    \n",
        "}\n",
        "\n",
        "env = StockPortfolioEnv(df = mixed_df, **env_kwargs)"
      ]
    },
    {
      "cell_type": "code",
      "execution_count": null,
      "metadata": {
        "colab": {
          "base_uri": "https://localhost:8080/"
        },
        "id": "_7TKIReMWLo4",
        "outputId": "325554cd-798c-4e93-dd92-491b113aef94"
      },
      "outputs": [],
      "source": [
        "env_train, _ = env.get_sb_env()\n",
        "print(type(env_train))"
      ]
    },
    {
      "cell_type": "markdown",
      "metadata": {
        "id": "omTjQhJRZeNl"
      },
      "source": [
        "# Train"
      ]
    },
    {
      "cell_type": "code",
      "execution_count": null,
      "metadata": {
        "id": "a-J1PdhqWoO5"
      },
      "outputs": [],
      "source": [
        "policy = \"MlpPolicy\""
      ]
    },
    {
      "cell_type": "code",
      "execution_count": null,
      "metadata": {
        "id": "2S3msd3tZiHl"
      },
      "outputs": [],
      "source": [
        "a2c_agent = A2C(policy, env)\n",
        "ddpg_agent = DDPG(policy, env)\n",
        "# dqn_agent = DQN(policy, env)\n",
        "ppo_agent = PPO(policy, env)"
      ]
    },
    {
      "cell_type": "code",
      "execution_count": null,
      "metadata": {
        "colab": {
          "base_uri": "https://localhost:8080/"
        },
        "id": "ah0dR9y0rnpk",
        "outputId": "027fda7d-bc7a-4f52-fb22-a2c44b58cc5f"
      },
      "outputs": [],
      "source": [
        "print(\"A2C\")\n",
        "a2c_result = a2c_agent.learn(\n",
        "    total_timesteps=1000,\n",
        ")\n",
        "\n",
        "print(\"DDPG\")\n",
        "ddpg_result = ddpg_agent.learn(\n",
        "    total_timesteps=1000,\n",
        ")\n",
        "\n",
        "print(\"PPO\")\n",
        "ppo_result = ppo_agent.learn(\n",
        "    total_timesteps=1000,\n",
        ")"
      ]
    },
    {
      "cell_type": "markdown",
      "metadata": {
        "id": "DYsyJqelllWu"
      },
      "source": [
        "# Predict"
      ]
    },
    {
      "cell_type": "code",
      "execution_count": null,
      "metadata": {
        "colab": {
          "base_uri": "https://localhost:8080/"
        },
        "id": "8p6UtUfzlr4o",
        "outputId": "e8e4ea4c-bbd5-45d1-a29b-0e94b4811d35"
      },
      "outputs": [],
      "source": [
        "a2c_vec_env = a2c_result.get_env()\n",
        "obs = a2c_vec_env.reset()\n",
        "for i in range(1000):\n",
        "    action, _states = a2c_result.predict(obs, deterministic=True)\n",
        "    obs, reward, done, info = a2c_vec_env.step(action)\n",
        "    # print(\"Step\", i, reward)\n",
        "    a2c_vec_env.render()"
      ]
    },
    {
      "cell_type": "markdown",
      "metadata": {
        "id": "KVPD5FMypfzK"
      },
      "source": [
        "# Backtest"
      ]
    },
    {
      "cell_type": "markdown",
      "metadata": {
        "id": "_PbDvUnSvmgr"
      },
      "source": [
        "## To explore"
      ]
    },
    {
      "cell_type": "code",
      "execution_count": null,
      "metadata": {
        "id": "oqXC_4rFpoVy"
      },
      "outputs": [],
      "source": [
        "class MLTrainOnceStrategy(Strategy):\n",
        "    price_delta = .004  # 0.4%\n",
        "\n",
        "    def init(self):        \n",
        "        # agent\n",
        "        self.agent = ppo_result\n",
        "        self.vec_env = ppo_result.get_env()\n",
        "        self.obs = self.vec_env.reset()\n",
        "        \n",
        "        # data\n",
        "        # self.data = mixed_df\n",
        "        # self.data.set_index(\"Date\")\n",
        "\n",
        "        # Prepare empty, all-NaN forecast indicator\n",
        "        self.forecasts = self.I(lambda: np.repeat(np.nan, len(self.data)), name='forecast')\n",
        "    \n",
        "    def next(self):\n",
        "        # Proceed only with out-of-sample data. Prepare some variables\n",
        "        high, low, close = self.data.High, self.data.Low, self.data.Close\n",
        "        # current_time = self.data.index[-1]\n",
        "\n",
        "        # Forecast the next movement\n",
        "        action, _states = self.agent.predict(self.obs, deterministic=True)\n",
        "        self.obs, forecast, done, info = self.vec_env.step(action)\n",
        "        self.vec_env.render()\n",
        "\n",
        "        # Update the plotted \"forecast\" indicator\n",
        "        self.forecasts[-1] = forecast\n",
        "\n",
        "        # If our forecast is upwards and we don't already hold a long position\n",
        "        # place a long order for 20% of available account equity. Vice versa for short.\n",
        "        # Also set target take-profit and stop-loss prices to be one price_delta\n",
        "        # away from the current closing price.\n",
        "        upper, lower = close[-1] * (1 + np.r_[1, -1]*self.price_delta)\n",
        "\n",
        "        if forecast > 1000000 and not self.position.is_long:\n",
        "            self.buy(size=.2, tp=upper, sl=lower)\n",
        "        elif forecast <= 1000000 and not self.position.is_short:\n",
        "            self.sell(size=.2, tp=lower, sl=upper)\n",
        "\n",
        "        # Additionally, set aggressive stop-loss on trades that have been open \n",
        "        # for more than two days\n",
        "        # for trade in self.trades:\n",
        "        #     if current_time - trade.entry_time > pd.Timedelta('2 days'):\n",
        "        #         if trade.is_long:\n",
        "        #             trade.sl = max(trade.sl, low)\n",
        "        #         else:\n",
        "        #             trade.sl = min(trade.sl, high)"
      ]
    },
    {
      "cell_type": "code",
      "execution_count": null,
      "metadata": {
        "colab": {
          "base_uri": "https://localhost:8080/"
        },
        "id": "s0JeqSBvsKGV",
        "outputId": "67234d8a-3b1e-453a-90b5-31aa3692b199"
      },
      "outputs": [],
      "source": [
        "bt = Backtest(aapl_df, MLTrainOnceStrategy, commission=.0002, margin=.05)\n",
        "bt.run()"
      ]
    }
  ],
  "metadata": {
    "colab": {
      "include_colab_link": true,
      "provenance": [],
      "toc_visible": true
    },
    "kernelspec": {
      "display_name": "Python 3",
      "name": "python3"
    },
    "language_info": {
      "codemirror_mode": {
        "name": "ipython",
        "version": 3
      },
      "file_extension": ".py",
      "mimetype": "text/x-python",
      "name": "python",
      "nbconvert_exporter": "python",
      "pygments_lexer": "ipython3",
      "version": "3.11.0"
    }
  },
  "nbformat": 4,
  "nbformat_minor": 0
}
